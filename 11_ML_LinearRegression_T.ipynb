{
 "cells": [
  {
   "cell_type": "markdown",
   "metadata": {},
   "source": [
    "## 선형회귀(Linear Regression) - 심화"
   ]
  },
  {
   "cell_type": "markdown",
   "metadata": {},
   "source": [
    "#### Linear Regression을 활용하여 섭씨온도(C, Celsius)를 화씨온도(F, Fahrenheit)로 변환해주는 공식을 만들수 있다. \n",
    "섭씨온도과 화씨온도의 관계는 앞에서 우리가 살펴보았던 선형회귀의 관계를 가지고 있다.\n",
    "#### <span style=\"color:red\"> H(x) = aX + b 에서처럼, F = C*1.8 +32  </span>\n",
    "이때, 1.8과 32라는 값을 모르고 있다고 가정하고, 머신러닝 알고리즘을 이용해서 주어진 섭씨 온도와 화씨온도 데이타 만으로 이 값들을 찾아내는 실습을 진행해보도록 하겠다.\n",
    "<u><span style=\"color:red\">[Chain Rule 증명](https://www.khanacademy.org/math/ap-calculus-ab/ab-differentiation-2-new/ab-3-1b/a/proving-the-chain-rule) </span></u>"
   ]
  },
  {
   "cell_type": "markdown",
   "metadata": {},
   "source": [
    "### Configuration (or prerequisite)"
   ]
  },
  {
   "cell_type": "code",
   "execution_count": 1,
   "metadata": {},
   "outputs": [],
   "source": [
    "%matplotlib inline\n",
    "import numpy as np\n",
    "import pandas as pd\n",
    "import matplotlib.pyplot as plt"
   ]
  },
  {
   "cell_type": "markdown",
   "metadata": {},
   "source": [
    "### Generate Dataset"
   ]
  },
  {
   "cell_type": "markdown",
   "metadata": {},
   "source": [
    "####  <span style=\"color:blue\">선형회귀 문제를 다루기 위한 학습용 데이타셋을 생성</span>\n",
    "0도에서 100도 사이의 값을 갖는 섭씨온도 데이타를 100개 만들어보자\n",
    "이 데이타가 해당 머신러닝 알고리즘에서 사실상 Feature가 될 것이다."
   ]
  },
  {
   "cell_type": "code",
   "execution_count": 2,
   "metadata": {},
   "outputs": [
    {
     "data": {
      "text/plain": [
       "array([69, 41, 35, 64, 95, 69, 94,  0, 50, 36, 34, 48, 93,  3, 98, 42, 77,\n",
       "       21, 73,  0, 10, 43, 58, 23, 59,  2, 98, 62, 35, 94, 67, 82, 46, 99,\n",
       "       20, 81, 50, 27, 14, 41, 58, 65, 36, 10, 86, 43, 11,  2, 51, 80, 32,\n",
       "       54,  0, 38, 19, 46, 42, 56, 60, 77, 30, 24,  2,  3, 94, 98, 13, 40,\n",
       "       72, 19, 95, 72, 26, 66, 52, 67, 61, 14, 96,  4, 67, 11, 86, 77, 75,\n",
       "       56, 16, 24, 29, 21, 25, 80, 60, 61, 83, 33, 32, 70, 85, 31])"
      ]
     },
     "execution_count": 2,
     "metadata": {},
     "output_type": "execute_result"
    }
   ],
   "source": [
    "np.random.seed(0)\n",
    "C = np.random.randint(0, 100)\n",
    "C\n",
    "\n",
    "C = np.random.randint(0, 100, size=100)\n",
    "C\n",
    "\n",
    "C = np.random.randint(low=0, high=100, size=100)\n",
    "C "
   ]
  },
  {
   "cell_type": "code",
   "execution_count": 3,
   "metadata": {},
   "outputs": [
    {
     "name": "stdout",
     "output_type": "stream",
     "text": [
      "(100,)\n"
     ]
    },
    {
     "data": {
      "text/plain": [
       "array([69, 41, 35, 64, 95, 69, 94,  0, 50, 36])"
      ]
     },
     "execution_count": 3,
     "metadata": {},
     "output_type": "execute_result"
    }
   ],
   "source": [
    "'''\n",
    "섭씨온도 데이터를 담고있는 C의 shape를 확인합니다. (100,)로 100개의 데이터가 있습니다.\n",
    "C의 첫 10개 값을 확인합니다. \n",
    "'''\n",
    "print(C.shape)\n",
    "C[:10]"
   ]
  },
  {
   "cell_type": "markdown",
   "metadata": {},
   "source": [
    "### 섭씨온도 데이타에 상응하는 화씨온도를 생성\n",
    "#### <span style=\"color:blue\">우리가 알고있던 기존의 섭씨-화씨변환 공식을 적용해서 위 섭씨온도 데이타에 대응하는 화씨온도 데이타를 생성.</span> \n",
    "이 데이타가 오늘 다룰 학습 모델 알고리즘의 Label이 될 것이다.<br>\n",
    "weight, bias값을 찾아내는 것이 학습의 목표이다."
   ]
  },
  {
   "cell_type": "markdown",
   "metadata": {},
   "source": [
    "### Bias (편향 찾기) -- Weight는 1.8"
   ]
  },
  {
   "cell_type": "markdown",
   "metadata": {},
   "source": [
    "####  <span style=\"color:blue\">Weight는 1.8로 주고 Bias를 직관적으로 한번 찾아보겠다.</span>"
   ]
  },
  {
   "cell_type": "code",
   "execution_count": 5,
   "metadata": {},
   "outputs": [
    {
     "data": {
      "text/plain": [
       "array([156.2, 105.8,  95. , 147.2, 203. , 156.2, 201.2,  32. , 122. ,\n",
       "        96.8])"
      ]
     },
     "execution_count": 5,
     "metadata": {},
     "output_type": "execute_result"
    }
   ],
   "source": [
    "F = 1.8 * C + 32\n",
    "F[:10]\n"
   ]
  },
  {
   "cell_type": "markdown",
   "metadata": {},
   "source": [
    "### Visualization"
   ]
  },
  {
   "cell_type": "code",
   "execution_count": 6,
   "metadata": {},
   "outputs": [
    {
     "data": {
      "image/png": "[encoded data removed]",
      "text/plain": [
       "<Figure size 432x288 with 1 Axes>"
      ]
     },
     "metadata": {
      "needs_background": "light"
     },
     "output_type": "display_data"
    }
   ],
   "source": [
    "plt.scatter(C, F)\n",
    "plt.xlabel('Celsius Temperator')\n",
    "plt.ylabel('Fahr~~ Temperator')\n",
    "plt.show()"
   ]
  },
  {
   "cell_type": "markdown",
   "metadata": {},
   "source": [
    "### Gradient Descent"
   ]
  },
  {
   "cell_type": "markdown",
   "metadata": {},
   "source": [
    "### 가중치(Weight, W), 편향(Bias, B) 찾기\n",
    "####  <span style=\"color:red\">이제 경사하강법(Gradient Descent)을 사용하여 섭씨온도를 화씨온도로 변환해줄 주 있는 공식을 찾아보겠다.</span>\n",
    "공식의 세부내용은 모른다치고, 두 변수(X,y)가 선형(Linear)과 관계있음을 가정(y=X * w + b)하여 가중치(weight)와 편차(bias)를 정의해 둔다. 그리고 경사하강법을 이용해서 선형회귀를 학습시킨다.\n",
    "학습이 완료되면, 얻어진 최적의 가중치와 편차로 섭씨온도를 화씨온도로 변환해주는 공식을 만들어 줄수 있다.\n",
    "학습은 모든 epoch이 끝날 때까지 반복할 수도 있지만, 여기선 오차(error)가 0.1 이하가 되면 학습을 종료하도록 한다."
   ]
  },
  {
   "cell_type": "code",
   "execution_count": 7,
   "metadata": {},
   "outputs": [],
   "source": [
    "X = C\n",
    "Y = F"
   ]
  },
  {
   "cell_type": "code",
   "execution_count": 12,
   "metadata": {},
   "outputs": [
    {
     "data": {
      "text/plain": [
       "(1.8, -0.7290518715550995)"
      ]
     },
     "execution_count": 12,
     "metadata": {},
     "output_type": "execute_result"
    }
   ],
   "source": [
    "w = 1.8\n",
    "\n",
    "#b는 아무값이나 지정해 보겠다.\n",
    "b = np.random.uniform(low=-1.0, high = 1.0)\n",
    "\n",
    "w,b"
   ]
  },
  {
   "cell_type": "markdown",
   "metadata": {},
   "source": [
    "### Predict"
   ]
  },
  {
   "cell_type": "code",
   "execution_count": 13,
   "metadata": {},
   "outputs": [
    {
     "data": {
      "text/plain": [
       "array([123.47094813,  73.07094813,  62.27094813, 114.47094813,\n",
       "       170.27094813, 123.47094813, 168.47094813,  -0.72905187,\n",
       "        89.27094813,  64.07094813])"
      ]
     },
     "execution_count": 13,
     "metadata": {},
     "output_type": "execute_result"
    }
   ],
   "source": [
    "y_predict = w * X +b\n",
    "y_predict[:10]"
   ]
  },
  {
   "cell_type": "code",
   "execution_count": 14,
   "metadata": {},
   "outputs": [
    {
     "data": {
      "image/png": "[encoded data removed]",
      "text/plain": [
       "<Figure size 432x288 with 1 Axes>"
      ]
     },
     "metadata": {
      "needs_background": "light"
     },
     "output_type": "display_data"
    }
   ],
   "source": [
    "plt.scatter(C,F)\n",
    "plt.plot(C,y_predict, c = 'r')\n",
    "plt.show()"
   ]
  },
  {
   "cell_type": "code",
   "execution_count": 23,
   "metadata": {},
   "outputs": [
    {
     "data": {
      "text/plain": [
       "32.00000000000001"
      ]
     },
     "execution_count": 23,
     "metadata": {},
     "output_type": "execute_result"
    }
   ],
   "source": [
    "b = b-(y_predict-Y).mean()\n",
    "b"
   ]
  },
  {
   "cell_type": "code",
   "execution_count": 24,
   "metadata": {},
   "outputs": [
    {
     "data": {
      "text/plain": [
       "array([156.2, 105.8,  95. , 147.2, 203. , 156.2, 201.2,  32. , 122. ,\n",
       "        96.8])"
      ]
     },
     "execution_count": 24,
     "metadata": {},
     "output_type": "execute_result"
    }
   ],
   "source": [
    "y_predict = w * C+b\n",
    "y_predict[:10]"
   ]
  },
  {
   "cell_type": "code",
   "execution_count": 25,
   "metadata": {},
   "outputs": [
    {
     "data": {
      "image/png": "[encoded data removed]",
      "text/plain": [
       "<Figure size 432x288 with 1 Axes>"
      ]
     },
     "metadata": {
      "needs_background": "light"
     },
     "output_type": "display_data"
    }
   ],
   "source": [
    "plt.scatter(C,F)\n",
    "plt.plot(C, y_predict,c = 'r' )\n",
    "plt.show()"
   ]
  },
  {
   "cell_type": "markdown",
   "metadata": {},
   "source": [
    "    이번에는 w, b 값 둘다 랜덤하게 지정한 다음에 가장 확실한 선형을 그을수 있는\n",
    "    w, b값을 찾아보도록 하겠다"
   ]
  },
  {
   "cell_type": "code",
   "execution_count": 30,
   "metadata": {},
   "outputs": [
    {
     "data": {
      "text/plain": [
       "(-0.26487625990420693, -0.12827014946874638)"
      ]
     },
     "execution_count": 30,
     "metadata": {},
     "output_type": "execute_result"
    }
   ],
   "source": [
    "w = np.random.uniform(-1.0, 1.0)\n",
    "b = np.random.uniform(-1.0, 1.0)\n",
    "w,b"
   ]
  },
  {
   "cell_type": "code",
   "execution_count": 31,
   "metadata": {},
   "outputs": [
    {
     "data": {
      "text/plain": [
       "array([-18.40473208, -10.98819681,  -9.39893925, -17.08035078,\n",
       "       -25.29151484, -18.40473208, -25.02663858,  -0.12827015,\n",
       "       -13.37208314,  -9.66381551])"
      ]
     },
     "execution_count": 31,
     "metadata": {},
     "output_type": "execute_result"
    }
   ],
   "source": [
    "y_predict = w * X + b\n",
    "y_predict[:10]"
   ]
  },
  {
   "cell_type": "code",
   "execution_count": 32,
   "metadata": {},
   "outputs": [
    {
     "data": {
      "text/plain": [
       "[<matplotlib.lines.Line2D at 0x263d4ffb0a0>]"
      ]
     },
     "execution_count": 32,
     "metadata": {},
     "output_type": "execute_result"
    },
    {
     "data": {
      "image/png": "[encoded data removed]",
      "text/plain": [
       "<Figure size 432x288 with 1 Axes>"
      ]
     },
     "metadata": {
      "needs_background": "light"
     },
     "output_type": "display_data"
    }
   ],
   "source": [
    "plt.scatter(C,F)\n",
    "plt.plot(C, y_predict, c = 'r')"
   ]
  },
  {
   "cell_type": "markdown",
   "metadata": {},
   "source": [
    "### Gradient Decsent\n",
    "#### 가중치(weight), 편향(bias) 찾기"
   ]
  },
  {
   "cell_type": "code",
   "execution_count": 33,
   "metadata": {},
   "outputs": [
    {
     "name": "stdout",
     "output_type": "stream",
     "text": [
      "    0 w= 2.229, b=0.637, loss=81.067\n",
      "10000 w= 2.017, b=17.632, loss=6.062\n",
      "20000 w= 1.900, b=25.418, loss=2.777\n",
      "30000 w= 1.846, b=28.984, loss=1.272\n",
      "40000 w= 1.821, b=30.619, loss=0.583\n",
      "50000 w= 1.810, b=31.367, loss=0.267\n",
      "60000 w= 1.804, b=31.710, loss=0.122\n",
      "--------------------------------------------------\n",
      "62583 w= 1.804, b=31.763, loss=0.100\n"
     ]
    }
   ],
   "source": [
    "#학습을 몇회 반복할지를 지정, 즉 몇번의 for문을 돌릴지를 지정한다.\n",
    "'''\n",
    "1회 학습할때 w,b값이 나오고 cost값이 도출...얼마만큼 기울기를 수정해야 할지가 정해진다.,\n",
    "계속 학습을 반복해나가다가 cost값이 0에 가까워지면 학습을 멈추도록 로직을 작성\n",
    "'''\n",
    "num_epoch = 100000\n",
    "learning_rate = 0.0003\n",
    "\n",
    "\n",
    "w = np.random.uniform(-1.0, 1.0)\n",
    "b = np.random.uniform(-1.0, 1.0)\n",
    "\n",
    "for epoch in range(num_epoch):\n",
    "    y_predict = w * X + b\n",
    "    \n",
    "    #얼마나 예측을 잘 했는지에 대한 정량화된 값을 구한다...MSE(pred-Y)**2\n",
    "    loss = np.abs(y_predict - Y).mean()\n",
    "    \n",
    "    if(loss<0.1): #거의 0에 가까워 졌다면\n",
    "        break\n",
    "        \n",
    "    #계속적으로 학습을 진행하는데...w, b값을 업데이트 해준다는 의미\n",
    "    w = w-learning_rate *((y_predict - Y) * X).mean()\n",
    "    b = b-learning_rate *(y_predict - Y).mean()\n",
    "    \n",
    "    if epoch % 10000 ==0:\n",
    "        print(f\"{epoch:5} w={w: .3f}, b={b:.3f}, loss={loss:.3f}\")\n",
    "\n",
    "print('--------------------------------------------------')\n",
    "print(f\"{epoch:5} w={w: .3f}, b={b:.3f}, loss={loss:.3f}\")"
   ]
  },
  {
   "cell_type": "code",
   "execution_count": 34,
   "metadata": {},
   "outputs": [
    {
     "data": {
      "text/plain": [
       "array([156.21045537, 105.71003052,  94.88851091, 147.19252236,\n",
       "       203.10370702])"
      ]
     },
     "execution_count": 34,
     "metadata": {},
     "output_type": "execute_result"
    }
   ],
   "source": [
    "y_predict = w * C + b\n",
    "y_predict[:5]"
   ]
  },
  {
   "cell_type": "markdown",
   "metadata": {},
   "source": [
    "### Visualization"
   ]
  },
  {
   "cell_type": "code",
   "execution_count": 35,
   "metadata": {},
   "outputs": [
    {
     "data": {
      "text/html": [
       "<div>\n",
       "<style scoped>\n",
       "    .dataframe tbody tr th:only-of-type {\n",
       "        vertical-align: middle;\n",
       "    }\n",
       "\n",
       "    .dataframe tbody tr th {\n",
       "        vertical-align: top;\n",
       "    }\n",
       "\n",
       "    .dataframe thead th {\n",
       "        text-align: right;\n",
       "    }\n",
       "</style>\n",
       "<table border=\"1\" class=\"dataframe\">\n",
       "  <thead>\n",
       "    <tr style=\"text-align: right;\">\n",
       "      <th></th>\n",
       "      <th>C</th>\n",
       "      <th>F</th>\n",
       "      <th>F(Predict)</th>\n",
       "    </tr>\n",
       "  </thead>\n",
       "  <tbody>\n",
       "    <tr>\n",
       "      <th>0</th>\n",
       "      <td>69</td>\n",
       "      <td>156.2</td>\n",
       "      <td>156.210455</td>\n",
       "    </tr>\n",
       "    <tr>\n",
       "      <th>1</th>\n",
       "      <td>41</td>\n",
       "      <td>105.8</td>\n",
       "      <td>105.710031</td>\n",
       "    </tr>\n",
       "    <tr>\n",
       "      <th>2</th>\n",
       "      <td>35</td>\n",
       "      <td>95.0</td>\n",
       "      <td>94.888511</td>\n",
       "    </tr>\n",
       "    <tr>\n",
       "      <th>3</th>\n",
       "      <td>64</td>\n",
       "      <td>147.2</td>\n",
       "      <td>147.192522</td>\n",
       "    </tr>\n",
       "    <tr>\n",
       "      <th>4</th>\n",
       "      <td>95</td>\n",
       "      <td>203.0</td>\n",
       "      <td>203.103707</td>\n",
       "    </tr>\n",
       "    <tr>\n",
       "      <th>5</th>\n",
       "      <td>69</td>\n",
       "      <td>156.2</td>\n",
       "      <td>156.210455</td>\n",
       "    </tr>\n",
       "    <tr>\n",
       "      <th>6</th>\n",
       "      <td>94</td>\n",
       "      <td>201.2</td>\n",
       "      <td>201.300120</td>\n",
       "    </tr>\n",
       "    <tr>\n",
       "      <th>7</th>\n",
       "      <td>0</td>\n",
       "      <td>32.0</td>\n",
       "      <td>31.762980</td>\n",
       "    </tr>\n",
       "    <tr>\n",
       "      <th>8</th>\n",
       "      <td>50</td>\n",
       "      <td>122.0</td>\n",
       "      <td>121.942310</td>\n",
       "    </tr>\n",
       "    <tr>\n",
       "      <th>9</th>\n",
       "      <td>36</td>\n",
       "      <td>96.8</td>\n",
       "      <td>96.692098</td>\n",
       "    </tr>\n",
       "  </tbody>\n",
       "</table>\n",
       "</div>"
      ],
      "text/plain": [
       "    C      F  F(Predict)\n",
       "0  69  156.2  156.210455\n",
       "1  41  105.8  105.710031\n",
       "2  35   95.0   94.888511\n",
       "3  64  147.2  147.192522\n",
       "4  95  203.0  203.103707\n",
       "5  69  156.2  156.210455\n",
       "6  94  201.2  201.300120\n",
       "7   0   32.0   31.762980\n",
       "8  50  122.0  121.942310\n",
       "9  36   96.8   96.692098"
      ]
     },
     "execution_count": 35,
     "metadata": {},
     "output_type": "execute_result"
    }
   ],
   "source": [
    "result = pd.DataFrame({\"C\":C, \"F\":F, \"F(Predict)\":y_predict})\n",
    "result.head(10)"
   ]
  },
  {
   "cell_type": "code",
   "execution_count": 36,
   "metadata": {},
   "outputs": [
    {
     "data": {
      "text/plain": [
       "[<matplotlib.lines.Line2D at 0x263d430d040>]"
      ]
     },
     "execution_count": 36,
     "metadata": {},
     "output_type": "execute_result"
    },
    {
     "data": {
      "image/png": "[encoded data removed]",
      "text/plain": [
       "<Figure size 432x288 with 1 Axes>"
      ]
     },
     "metadata": {
      "needs_background": "light"
     },
     "output_type": "display_data"
    }
   ],
   "source": [
    "plt.scatter(C,F)\n",
    "plt.plot(C,y_predict, c = 'r')"
   ]
  },
  {
   "cell_type": "code",
   "execution_count": null,
   "metadata": {},
   "outputs": [],
   "source": []
  },
  {
   "cell_type": "code",
   "execution_count": null,
   "metadata": {},
   "outputs": [],
   "source": []
  },
  {
   "cell_type": "code",
   "execution_count": null,
   "metadata": {},
   "outputs": [],
   "source": []
  },
  {
   "cell_type": "code",
   "execution_count": null,
   "metadata": {},
   "outputs": [],
   "source": []
  },
  {
   "cell_type": "code",
   "execution_count": null,
   "metadata": {},
   "outputs": [],
   "source": []
  }
 ],
 "metadata": {
  "kernelspec": {
   "display_name": "Python 3",
   "language": "python",
   "name": "python3"
  },
  "language_info": {
   "codemirror_mode": {
    "name": "ipython",
    "version": 3
   },
   "file_extension": ".py",
   "mimetype": "text/x-python",
   "name": "python",
   "nbconvert_exporter": "python",
   "pygments_lexer": "ipython3",
   "version": "3.8.5"
  }
 },
 "nbformat": 4,
 "nbformat_minor": 4
}
