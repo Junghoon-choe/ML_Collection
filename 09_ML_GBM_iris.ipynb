{
 "cells": [
  {
   "cell_type": "markdown",
   "metadata": {},
   "source": [
    "### GBM(Gradient Boosting Machine)\n",
    "\n",
    "    DecisionTree >> Ensemble\n",
    "    Ensemble (크게 2가지)\n",
    "        [1] Baggin 알고리즘 >> RandomForest Machine\n",
    "        [2] Boosting 알고리즘 >> GradientBoosting Machine\n",
    "        머신이 강해질수록 하이퍼 파라미터 갯수들도 늘어난다.\n",
    "        하이퍼파라미터 값은 경험에 의한 인간이 직접 부여해줘야 한다.\n",
    "        성능에 막대한 영향을 미친다."
   ]
  },
  {
   "cell_type": "code",
   "execution_count": 2,
   "metadata": {},
   "outputs": [],
   "source": [
    "from sklearn.datasets import load_iris, load_breast_cancer\n",
    "from sklearn.ensemble import GradientBoostingClassifier\n",
    "from sklearn.model_selection import train_test_split\n",
    "import matplotlib.pyplot as plt\n",
    "import numpy as np"
   ]
  },
  {
   "cell_type": "code",
   "execution_count": 39,
   "metadata": {},
   "outputs": [],
   "source": [
    "# 암관련된 데이터를 가져온다.\n",
    "cancer = load_breast_cancer()\n",
    "\n",
    "# train 데이터와 test할 데이터를 나눈다.\n",
    "X_train, X_test, y_train, y_test = train_test_split(cancer.data, cancer.target)"
   ]
  },
  {
   "cell_type": "code",
   "execution_count": 49,
   "metadata": {},
   "outputs": [
    {
     "name": "stdout",
     "output_type": "stream",
     "text": [
      " 훈련 : 1.0, 테스트 : 0.9790209790209791\n"
     ]
    }
   ],
   "source": [
    "# GradientBoostingClassifier로 모델을선언한다\n",
    "gbm = GradientBoostingClassifier(random_state=0)\n",
    "\n",
    "# 모델에 트레이닝 데이터로 fitting(학습)을 시켜준다.\n",
    "gbm.fit(X_train, y_train)\n",
    "\n",
    "# 트레이닝과 테스트 점수를 구해본다.\n",
    "train_score = gbm.score(X_train, y_train)\n",
    "test_score = gbm.score(X_test, y_test)\n",
    "print(f' 훈련 : {train_score}, 테스트 : {test_score}')\n",
    "\n",
    "# 결과 값에서 훈련값이 1.0이라고 나온건 overfitting 된것이다.\n",
    "# overfitting은 학습과정에서 너무 학습을 많이 해버려서 모든 문제를 외워버린것이다.\n",
    "# 즉, 수동적인 학습이 되어버린것이다.\n",
    "# 그렇게 되면 테스트할때 성능저하가 일어나서\n",
    "# 미지의 값을 넣었을때 능동적이게 데이터를 예측 할 수 없게 된다. "
   ]
  },
  {
   "cell_type": "code",
   "execution_count": 52,
   "metadata": {},
   "outputs": [
    {
     "name": "stdout",
     "output_type": "stream",
     "text": [
      " 훈련 : 1.0, 테스트 : 0.9790209790209791\n"
     ]
    }
   ],
   "source": [
    "# max_depth하이퍼 파라미터를 넣어서 뎁스에 제한을 걸어 주어봤다.\n",
    "gbm = GradientBoostingClassifier(random_state=0, max_depth=3)\n",
    "gbm.fit(X_train, y_train)\n",
    "train_score = gbm.score(X_train, y_train)\n",
    "test_score = gbm.score(X_test, y_test)\n",
    "print(f' 훈련 : {train_score}, 테스트 : {test_score}')"
   ]
  },
  {
   "cell_type": "code",
   "execution_count": 50,
   "metadata": {},
   "outputs": [
    {
     "name": "stdout",
     "output_type": "stream",
     "text": [
      " 훈련 : 1.0, 테스트 : 0.993006993006993\n"
     ]
    }
   ],
   "source": [
    "gbm = GradientBoostingClassifier(random_state=0, max_depth=4)\n",
    "gbm.fit(X_train, y_train)\n",
    "train_score = gbm.score(X_train, y_train)\n",
    "test_score = gbm.score(X_test, y_test)\n",
    "print(f' 훈련 : {train_score}, 테스트 : {test_score}')"
   ]
  },
  {
   "cell_type": "code",
   "execution_count": 51,
   "metadata": {},
   "outputs": [
    {
     "name": "stdout",
     "output_type": "stream",
     "text": [
      " 훈련 : 0.6267605633802817, 테스트 : 0.6293706293706294\n"
     ]
    }
   ],
   "source": [
    "# 일부러 learning_rate값을 낮게주어서 훈련속도를 낮춰 주었다.\n",
    "# 이와같은 경우는 underfitting되었다고 볼 수 있다.\n",
    "gbm = GradientBoostingClassifier(random_state=0, learning_rate=0.001)\n",
    "gbm.fit(X_train, y_train)\n",
    "train_score = gbm.score(X_train, y_train)\n",
    "test_score = gbm.score(X_test, y_test)\n",
    "print(f' 훈련 : {train_score}, 테스트 : {test_score}')"
   ]
  }
 ],
 "metadata": {
  "kernelspec": {
   "display_name": "Python 3",
   "language": "python",
   "name": "python3"
  },
  "language_info": {
   "codemirror_mode": {
    "name": "ipython",
    "version": 3
   },
   "file_extension": ".py",
   "mimetype": "text/x-python",
   "name": "python",
   "nbconvert_exporter": "python",
   "pygments_lexer": "ipython3",
   "version": "3.8.5"
  }
 },
 "nbformat": 4,
 "nbformat_minor": 4
}
