{
 "cells": [
  {
   "cell_type": "markdown",
   "metadata": {},
   "source": [
    "### 예측 함수\n",
    "\n",
    "$$\n",
    "Y = Wx + b\n",
    "$$\n",
    "\n",
    "x는 특성, y는 예측 값이다. \n",
    "W는 기울기, b는 y절편을 뜻하지만 W는 가중치(weight), b는 offset으로 부를 수도 있다.\n",
    "선형 회귀에서는 여러 샘플의 특성 값과 예측 값을 활용해 가장 적절한 w와 b를 구하는 것이 목적이다.\n",
    "### 평균 제곱 오차 (Mean Square Error)\n",
    "선형 회귀에서는 Coast 함수(또는 비용 함수)로 평균 제곱 오차를 사용한다. \n",
    "여기서 Coast 함수란 샘플 데이터와 타깃과의 유사도를 의미하며 Coast 함수가 최소가 되도록 \n",
    "파라미터를 학습시킨다. \n",
    "$$\n",
    "MSE = (실제값 - 예측값)^2 / 크기 \n",
    "$$"
   ]
  },
  {
   "cell_type": "code",
   "execution_count": 9,
   "metadata": {},
   "outputs": [],
   "source": [
    "import numpy as np\n",
    "\n",
    "X = np.array([1., 2., 3., 4., 5., 6.])\n",
    "Y = np.array([9., 16., 23., 30., 37., 44.])"
   ]
  },
  {
   "cell_type": "code",
   "execution_count": 10,
   "metadata": {},
   "outputs": [],
   "source": [
    "#초기화\n",
    "W = 0.0\n",
    "b = 0.0"
   ]
  },
  {
   "cell_type": "code",
   "execution_count": 11,
   "metadata": {},
   "outputs": [
    {
     "data": {
      "text/plain": [
       "6"
      ]
     },
     "execution_count": 11,
     "metadata": {},
     "output_type": "execute_result"
    }
   ],
   "source": [
    "n_data = len(X)\n",
    "n_data"
   ]
  },
  {
   "cell_type": "code",
   "execution_count": 12,
   "metadata": {},
   "outputs": [],
   "source": [
    "# 작성!!\n",
    "num_epoch = 5000 # 학습 회수는 5000번\n",
    "learning_rate = 0.01 # 학습 속도는 0.01"
   ]
  },
  {
   "cell_type": "code",
   "execution_count": 19,
   "metadata": {},
   "outputs": [
    {
     "name": "stdout",
     "output_type": "stream",
     "text": [
      "epoch =     0, w =  6.983, b =  2.072, loss = 0.001\n",
      "epoch =   100, w =  6.986, b =  2.060, loss = 0.001\n",
      "epoch =   200, w =  6.988, b =  2.050, loss = 0.000\n",
      "epoch =   300, w =  6.990, b =  2.042, loss = 0.000\n",
      "epoch =   400, w =  6.992, b =  2.035, loss = 0.000\n",
      "epoch =   500, w =  6.993, b =  2.029, loss = 0.000\n",
      "epoch =   600, w =  6.994, b =  2.024, loss = 0.000\n",
      "W:   6.994676\n",
      "b:   2.022794\n",
      "result : \n",
      "[ 9.01746991 16.01214566 23.00682142 30.00149717 36.99617292 43.99084868]\n"
     ]
    }
   ],
   "source": [
    "for epoch in range(num_epoch):\n",
    "    y_predict = W * X + b # 1.우선 선형을 하나 만든다.\n",
    "    \n",
    "    # 얼마나 예측을 잘 했는지에 대한 정량화된 값을 구한다. MSE(pred_Y)**2\n",
    "    # 예측값(H(x))과 실제값을 넣어준다.\n",
    "    #loss = np.abs(y_predict - Y).mean()\n",
    "    loss = ((y_predict - Y)**2).mean()\n",
    "    \n",
    "    if loss<0.0001 : # 0에 가까워 지면 반복문을 나옴.\n",
    "        break\n",
    "    else:\n",
    "        # 계속적으로 학습을 진행하는데 w, b값을 업데이트 해준다는 의미이다.\n",
    "        # 간격을 점점 좁혀준다  한다.\n",
    "        W = W-learning_rate*((y_predict - Y)*X).mean()\n",
    "        b = b-learning_rate*(y_predict - Y).mean() # 하이퍼 파라미터 learning_rate\n",
    "    \n",
    "        if epoch % 100 == 0:\n",
    "            print(f'epoch = {epoch:5}, w = {W: .3f}, b = {b: .3f}, loss = {loss:.3f}')\n",
    "'''\n",
    "경사하강법을 이용해서\n",
    "아래와 같은 결과가 도출되도록 코드를 완성하세요!!\n",
    "'''\n",
    "print('W: {:10f}'.format(W))\n",
    "print('b: {:10f}'.format(b))\n",
    "print('result : ')\n",
    "print(X * W + b)"
   ]
  },
  {
   "cell_type": "code",
   "execution_count": 24,
   "metadata": {},
   "outputs": [
    {
     "data": {
      "image/png": "[encoded data removed]",
      "text/plain": [
       "<Figure size 432x288 with 1 Axes>"
      ]
     },
     "metadata": {
      "needs_background": "light"
     },
     "output_type": "display_data"
    }
   ],
   "source": [
    "import matplotlib.pyplot as plt\n",
    "plt.scatter(X,Y)\n",
    "plt.plot(X,y_predict, c='r')\n",
    "plt.show()"
   ]
  }
 ],
 "metadata": {
  "kernelspec": {
   "display_name": "Python 3",
   "language": "python",
   "name": "python3"
  },
  "language_info": {
   "codemirror_mode": {
    "name": "ipython",
    "version": 3
   },
   "file_extension": ".py",
   "mimetype": "text/x-python",
   "name": "python",
   "nbconvert_exporter": "python",
   "pygments_lexer": "ipython3",
   "version": "3.8.5"
  }
 },
 "nbformat": 4,
 "nbformat_minor": 4
}
