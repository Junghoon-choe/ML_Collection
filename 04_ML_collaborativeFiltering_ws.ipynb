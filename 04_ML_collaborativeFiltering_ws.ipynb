{
 "cells": [
  {
   "cell_type": "markdown",
   "metadata": {},
   "source": [
    "### <span style=\"color:blue\">Collaborative Filtering Workshop II </span>"
   ]
  },
  {
   "cell_type": "markdown",
   "metadata": {},
   "source": [
    "## 협업 필터링 (Collaborative Filtering) 구현하기 - Assignment\n",
    "\n",
    "이번 수업에서는 추천 시스템(Recommender System)에서 널리 사용되는 협업 필터링(이하 Collaborative Filtering)의 원리를 알아보고 이를 구현해보겠습니다. 추천 시스템은 사용자(이하 사용자)가 특정 물건이나 서비스(이하 상품)에 대한 선호 여부나 선호도를 예측하는 시스템을 의미합니다. 추천 시스템은 아마존과 같은 이커머스부터 페이스북과 같은 SNS, 유튜브, 넷플릭스 등과 같은 동영상 플랫폼까지 다양한 분야에서 두루 활용되고 있습니다.\n",
    "\n",
    "Collaborative Filtering에는 사용자에게 상품을 추천을 방법이 크게 두 가지가 있습니다. 1. 사용자가 선호하는 상품과 유사한 다른 상품 을 추천(상품 기반)하거나 2. 사용자와 유사한 다른 사용자가 선호하는 상품을 추천(사용자 기반)합니다. 사용자 기반 기법이 먼저 등장한 전통적인 알고리즘이고 상품 기반 방식은 이후 아마존(Amazon)이 제안한 기법입니다. 상품 기반 기법이 더 많은 기업들에서 사용되고 있다고 합니다.\n",
    "\n",
    "사용자 기반 방식이 갖는 문제는 우선 **1. 계산 복잡성 문제**와 **2. 희소성 문제**가 대표적입니다. 아마존과 같이 거대 이커머스 회사들은 수백만 명의 사용자와 수백만 개의 상품을 관리해야하는데 사용자 기반 방식을 사용하는 경우 사용자가 추가될 때마다 나머지 모든 사용자와의 유사도를 연산해야한다는 문제점이 있습니다. 상품 기반 방식을 사용하는 경우에 미리 구해 놓은 상품 간 유사도를 활용할 수 있기 때문에 이러한 문제점이 어느 정도 해결됩니다! 물론 사용자 기반 방식도 상품과 사용자가 계속 추가되므로 일정 기간마다 새롭게 유사도를 구해야하지만 사용자 기반 방식보다는 훨씬 계산 복잡성이 작습니다. 그리고 계산 복잡성 문제가 해결되는 대신 이 거대한 행렬을 저장할 공간이 따로 확보되어야한다는 점을 굳이 단점으로 뽑을 수 있습니다. 데이터 희소성 문제는 협업 필터링 알고리즘의 본질적인 취약한 점이지만 사용자가 많은 상품을 평가한 경우는 보통 없어서 이런 경우 사용자간의 유사도를 연산하는 것 자체가 어렵기 때문에 보통 사용자 기반 방식이 더 취약합니다.\n",
    "\n",
    "\n",
    "상품 / 사용자 기반 기법은 전반적으로 다음과 같은 흐름으로 동작합니다.\n",
    "\n",
    "1. 우선 사용자 $u$가 내릴 상품 $i$에 대한 평점(rating)을 추정하고자 합니다. 상품 $i$ / 사용자 $u$와 나머지 모든 상품 / 사용자의 유사도를 연산합니다.\n",
    "2. 유사도가 높은 k개 상품 / 사용자를 선택합니다. 이를 이웃이라고 부르겠습니다.\n",
    "3. 상품 기반 혹은 사용자 기반 기법에 따라 아래 단계를 수행하며 평점을 예측합니다.\n",
    "    - 상품 기반 : 이웃 상품에 내린 사용자 $u$의 평점(rating)을 상품 $i$와의 유사도에 따라 가중 평균을 구합니다. \n",
    "    - 사용자 기반 : 이웃 사용자가 상품 $i$에 내린 평점(rating)을 사용자 $u$와의 유사도에 따라 가중 평균을 구합니다.\n",
    "4. 아직 평점(rating)이 없는 항목에 대해 모든 평점(rating)을 예측합니다. 평점(rating) 예측 값 상위 n개 상품을 추천합니다.\n",
    "\n",
    "이러한 머신러닝 알고리즘을 잘 이해하는 방법은, 알고리즘을 파이썬과 같은 프로그래밍 언어로 직접 구현해보는 것입니다. 그러므로 이번 시간에는 주어진 데이터와 문제를 Collaborative Filtering을 활용하여 풀되, [surprise](http://surpriselib.com/)와 같은 추천 시스템 패키지를 사용하지 않고 파이썬으로 직접 구현해서 풀어보는 시간을 가질 것입니다."
   ]
  },
  {
   "cell_type": "markdown",
   "metadata": {},
   "source": [
    "**다만 상품 / 사용자 기반 기법은 상품과 사용자중 어떠한 것을 기준으로 삼을지만 다르고 구현하는 방식은 완전히 대칭적으로 동일**하기 때문에 사용자 기반 방식을 기준으로 구현하도록 하겠습니다. 기본적으로 사용자 기반 기법이 동작하는 흐름을 풀어쓰면 다음과 같습니다.\n",
    "\n",
    "1. 우선 사용자 $u$가 내릴 상품 $i$에 대한 평점(rating)을 추정하고자 합니다. 사용자 $u$와 나머지 모든 사용자간의 유사도 구합니다.\n",
    "2. 유사도를 기준으로 사용자 $u$와 가장 유사한(가까운) k명의 사용자(이웃)을 구합니다.\n",
    "3. 이웃들이 상품 $i$에 내린 평점을 가까운 이웃일수록 더 큰 가중치를 주어서 평균을 구합니다. 즉, 가중평균을 구합니다.\n",
    "4. 아직 평점(rating)이 없는 항목에 대해 위의 과정으로 모든 평점(rating)을 예측합니다.\n",
    "5. 평점(rating) 예측 값 상위 n개 상품을 추천합니다."
   ]
  },
  {
   "cell_type": "markdown",
   "metadata": {},
   "source": [
    "## Configuration"
   ]
  },
  {
   "cell_type": "code",
   "execution_count": 1,
   "metadata": {},
   "outputs": [],
   "source": [
    "import pandas as pd\n",
    "import numpy as np\n",
    "from pandas import Series, DataFrame\n",
    "from itertools import product # product에 있는 intertools을 불러와서 사용함을 정의"
   ]
  },
  {
   "cell_type": "markdown",
   "metadata": {},
   "source": [
    "## Generate Dataset\n",
    "\n",
    "먼저 Collaborative Filtering 알고리즘 원리를 잘 이해할 수 있는 데이터셋을 생성해보겠습니다. 추천 시스템을 구현한다고 할 때 어떠한 정보를 활용해볼 수 있을까요?\n",
    "\n",
    "예를 들어 이커머스 서비스 추천 시스템을 구현해본다고 가정했을 때, 크게 두 가지 정보를 활용해볼 수 있습니다. \n",
    "\n",
    "1. 우선 사용자가 상품을 구매한 이후 남긴 평점 정보를 활용할 수 있습니다.\n",
    "2. 혹은 사용자가 상품 판매 페이지에 머무른 시간 혹은 해당 상품을 클릭했는지 등의 정보를 활용해볼 수도 있습니다. \n",
    "\n",
    "앞서 말한 경우와 같이 사용자가 상품에 내린 직접적인 평가 데이터를 명시적 정보 (이하 explicit ratings), 사용자 행동을 통해 추론한 상품에 대한 간접적인 평가 데이터를 암시적 정보 (이하 implicit ratings)라고 말합니다. \n",
    "\n",
    "explicit ratings는 사용자로부터 얻을 수 있는 가장 정확한 평점입니다. 하지만, 사용자가 평가를 내릴 때 충분한 시간을 할애하는 것은 아니기에 평점 간의 척도가 정확하지 않을 수 있고 평점 수가 충분하지 않다는 한계가 있습니다. 이에 비해 implicit ratings는 평점을 쉽게 많이 수집할 수 있다는 장점이 있지만, 해당 정보를 무조건 사용자가 상품에 내린 긍정적 평가라고 결론 내릴 수는 없다는 단점이 있습니다.\n",
    "\n",
    "이번에 다룰 데이터셋은 1) 사용자(User)가 2) 책이라는 상품(Item)에 남긴 3) 1에서 5점 척도의 평점(rating) 데이터입니다. 사용자가 아직 보지 않은 책에 대한 3) 평점을 Collaborative Filtering으로 예측해보겠습니다. 먼저 이를 위한 예시 데이터셋을 생성한 뒤, 이 데이터를 바탕으로 모델을 구현해보겠습니다."
   ]
  },
  {
   "cell_type": "code",
   "execution_count": 2,
   "metadata": {},
   "outputs": [
    {
     "data": {
      "text/html": [
       "<div>\n",
       "<style scoped>\n",
       "    .dataframe tbody tr th:only-of-type {\n",
       "        vertical-align: middle;\n",
       "    }\n",
       "\n",
       "    .dataframe tbody tr th {\n",
       "        vertical-align: top;\n",
       "    }\n",
       "\n",
       "    .dataframe thead th {\n",
       "        text-align: right;\n",
       "    }\n",
       "</style>\n",
       "<table border=\"1\" class=\"dataframe\">\n",
       "  <thead>\n",
       "    <tr style=\"text-align: right;\">\n",
       "      <th></th>\n",
       "      <th>사람</th>\n",
       "      <th>책</th>\n",
       "      <th>평점</th>\n",
       "    </tr>\n",
       "  </thead>\n",
       "  <tbody>\n",
       "    <tr>\n",
       "      <th>0</th>\n",
       "      <td>민지</td>\n",
       "      <td>백설공주</td>\n",
       "      <td>5.0</td>\n",
       "    </tr>\n",
       "    <tr>\n",
       "      <th>1</th>\n",
       "      <td>민지</td>\n",
       "      <td>신데렐라</td>\n",
       "      <td>4.0</td>\n",
       "    </tr>\n",
       "    <tr>\n",
       "      <th>2</th>\n",
       "      <td>민지</td>\n",
       "      <td>어린왕자</td>\n",
       "      <td>1.0</td>\n",
       "    </tr>\n",
       "    <tr>\n",
       "      <th>3</th>\n",
       "      <td>민지</td>\n",
       "      <td>흥부전</td>\n",
       "      <td>3.0</td>\n",
       "    </tr>\n",
       "    <tr>\n",
       "      <th>4</th>\n",
       "      <td>현우</td>\n",
       "      <td>노인과바다</td>\n",
       "      <td>3.0</td>\n",
       "    </tr>\n",
       "    <tr>\n",
       "      <th>5</th>\n",
       "      <td>현우</td>\n",
       "      <td>신데렐라</td>\n",
       "      <td>2.0</td>\n",
       "    </tr>\n",
       "    <tr>\n",
       "      <th>6</th>\n",
       "      <td>현우</td>\n",
       "      <td>콩쥐팥쥐</td>\n",
       "      <td>1.0</td>\n",
       "    </tr>\n",
       "    <tr>\n",
       "      <th>7</th>\n",
       "      <td>현우</td>\n",
       "      <td>흥부전</td>\n",
       "      <td>2.0</td>\n",
       "    </tr>\n",
       "    <tr>\n",
       "      <th>8</th>\n",
       "      <td>민수</td>\n",
       "      <td>노인과바다</td>\n",
       "      <td>3.0</td>\n",
       "    </tr>\n",
       "    <tr>\n",
       "      <th>9</th>\n",
       "      <td>민수</td>\n",
       "      <td>백설공주</td>\n",
       "      <td>4.0</td>\n",
       "    </tr>\n",
       "    <tr>\n",
       "      <th>10</th>\n",
       "      <td>민수</td>\n",
       "      <td>신데렐라</td>\n",
       "      <td>4.0</td>\n",
       "    </tr>\n",
       "    <tr>\n",
       "      <th>11</th>\n",
       "      <td>민수</td>\n",
       "      <td>어린왕자</td>\n",
       "      <td>3.0</td>\n",
       "    </tr>\n",
       "    <tr>\n",
       "      <th>12</th>\n",
       "      <td>민수</td>\n",
       "      <td>콩쥐팥쥐</td>\n",
       "      <td>4.0</td>\n",
       "    </tr>\n",
       "    <tr>\n",
       "      <th>13</th>\n",
       "      <td>지민</td>\n",
       "      <td>노인과바다</td>\n",
       "      <td>4.0</td>\n",
       "    </tr>\n",
       "    <tr>\n",
       "      <th>14</th>\n",
       "      <td>지민</td>\n",
       "      <td>백설공주</td>\n",
       "      <td>1.0</td>\n",
       "    </tr>\n",
       "    <tr>\n",
       "      <th>15</th>\n",
       "      <td>지민</td>\n",
       "      <td>어린왕자</td>\n",
       "      <td>5.0</td>\n",
       "    </tr>\n",
       "    <tr>\n",
       "      <th>16</th>\n",
       "      <td>지민</td>\n",
       "      <td>콩쥐팥쥐</td>\n",
       "      <td>2.0</td>\n",
       "    </tr>\n",
       "    <tr>\n",
       "      <th>17</th>\n",
       "      <td>지민</td>\n",
       "      <td>흥부전</td>\n",
       "      <td>3.0</td>\n",
       "    </tr>\n",
       "    <tr>\n",
       "      <th>18</th>\n",
       "      <td>지연</td>\n",
       "      <td>노인과바다</td>\n",
       "      <td>5.0</td>\n",
       "    </tr>\n",
       "    <tr>\n",
       "      <th>19</th>\n",
       "      <td>지연</td>\n",
       "      <td>신데렐라</td>\n",
       "      <td>3.0</td>\n",
       "    </tr>\n",
       "    <tr>\n",
       "      <th>20</th>\n",
       "      <td>지연</td>\n",
       "      <td>어린왕자</td>\n",
       "      <td>4.0</td>\n",
       "    </tr>\n",
       "    <tr>\n",
       "      <th>21</th>\n",
       "      <td>지연</td>\n",
       "      <td>콩쥐팥쥐</td>\n",
       "      <td>3.0</td>\n",
       "    </tr>\n",
       "    <tr>\n",
       "      <th>22</th>\n",
       "      <td>지연</td>\n",
       "      <td>흥부전</td>\n",
       "      <td>3.0</td>\n",
       "    </tr>\n",
       "  </tbody>\n",
       "</table>\n",
       "</div>"
      ],
      "text/plain": [
       "    사람      책   평점\n",
       "0   민지   백설공주  5.0\n",
       "1   민지   신데렐라  4.0\n",
       "2   민지   어린왕자  1.0\n",
       "3   민지    흥부전  3.0\n",
       "4   현우  노인과바다  3.0\n",
       "5   현우   신데렐라  2.0\n",
       "6   현우   콩쥐팥쥐  1.0\n",
       "7   현우    흥부전  2.0\n",
       "8   민수  노인과바다  3.0\n",
       "9   민수   백설공주  4.0\n",
       "10  민수   신데렐라  4.0\n",
       "11  민수   어린왕자  3.0\n",
       "12  민수   콩쥐팥쥐  4.0\n",
       "13  지민  노인과바다  4.0\n",
       "14  지민   백설공주  1.0\n",
       "15  지민   어린왕자  5.0\n",
       "16  지민   콩쥐팥쥐  2.0\n",
       "17  지민    흥부전  3.0\n",
       "18  지연  노인과바다  5.0\n",
       "19  지연   신데렐라  3.0\n",
       "20  지연   어린왕자  4.0\n",
       "21  지연   콩쥐팥쥐  3.0\n",
       "22  지연    흥부전  3.0"
      ]
     },
     "execution_count": 2,
     "metadata": {},
     "output_type": "execute_result"
    }
   ],
   "source": [
    "data = pd.read_csv('../data/ratings.csv')\n",
    "data"
   ]
  },
  {
   "cell_type": "markdown",
   "metadata": {},
   "source": [
    "협업필터링은 다음과 같은 형태의 데이터를 사용해야 합니다. 일반적으로 사용자는 `index`, 상품은 `columns`으로 지정합니다. 값으로는 평점, 구매횟수 등이 올 수 있습니다."
   ]
  },
  {
   "cell_type": "markdown",
   "metadata": {},
   "source": [
    "<table>\n",
    "  <thead>\n",
    "    <tr style=\"text-align: right;\">\n",
    "      <th></th>\n",
    "      <th>노인과바다</th>\n",
    "      <th>백설공주</th>\n",
    "      <th>신데렐라</th>\n",
    "      <th>어린왕자</th>\n",
    "      <th>콩쥐팥쥐</th>\n",
    "      <th>흥부전</th>\n",
    "    </tr>\n",
    "  </thead>\n",
    "  <tbody>\n",
    "    <tr>\n",
    "      <th>민지</th>\n",
    "      <td>NaN</td>\n",
    "      <td>5</td>\n",
    "      <td>4</td>\n",
    "      <td>1</td>\n",
    "      <td>5</td>\n",
    "      <td>3</td>\n",
    "    </tr>\n",
    "    <tr>\n",
    "      <th>현우</th>\n",
    "      <td>3</td>\n",
    "      <td>NaN</td>\n",
    "      <td>2</td>\n",
    "      <td>3</td>\n",
    "      <td>1</td>\n",
    "      <td>2</td>\n",
    "    </tr>\n",
    "    <tr>\n",
    "      <th>민수</th>\n",
    "      <td>3</td>\n",
    "      <td>4</td>\n",
    "      <td>4</td>\n",
    "      <td>3</td>\n",
    "      <td>4</td>\n",
    "      <td>NaN</td>\n",
    "    </tr>\n",
    "    <tr>\n",
    "      <th>지민</th>\n",
    "      <td>4</td>\n",
    "      <td>1</td>\n",
    "      <td>1</td>\n",
    "      <td>5</td>\n",
    "      <td>2</td>\n",
    "      <td>3</td>\n",
    "    </tr>\n",
    "    <tr>\n",
    "      <th>지연</th>\n",
    "      <td>5</td>\n",
    "      <td>NaN</td>\n",
    "      <td>3</td>\n",
    "      <td>4</td>\n",
    "      <td>3</td>\n",
    "      <td>3</td>\n",
    "    </tr>\n",
    "  </tbody>\n",
    "</table>"
   ]
  },
  {
   "cell_type": "code",
   "execution_count": 5,
   "metadata": {},
   "outputs": [
    {
     "data": {
      "text/html": [
       "<div>\n",
       "<style scoped>\n",
       "    .dataframe tbody tr th:only-of-type {\n",
       "        vertical-align: middle;\n",
       "    }\n",
       "\n",
       "    .dataframe tbody tr th {\n",
       "        vertical-align: top;\n",
       "    }\n",
       "\n",
       "    .dataframe thead th {\n",
       "        text-align: right;\n",
       "    }\n",
       "</style>\n",
       "<table border=\"1\" class=\"dataframe\">\n",
       "  <thead>\n",
       "    <tr style=\"text-align: right;\">\n",
       "      <th>책</th>\n",
       "      <th>노인과바다</th>\n",
       "      <th>백설공주</th>\n",
       "      <th>신데렐라</th>\n",
       "      <th>어린왕자</th>\n",
       "      <th>콩쥐팥쥐</th>\n",
       "      <th>흥부전</th>\n",
       "    </tr>\n",
       "    <tr>\n",
       "      <th>사람</th>\n",
       "      <th></th>\n",
       "      <th></th>\n",
       "      <th></th>\n",
       "      <th></th>\n",
       "      <th></th>\n",
       "      <th></th>\n",
       "    </tr>\n",
       "  </thead>\n",
       "  <tbody>\n",
       "    <tr>\n",
       "      <th>민수</th>\n",
       "      <td>3.0</td>\n",
       "      <td>4.0</td>\n",
       "      <td>4.0</td>\n",
       "      <td>3.0</td>\n",
       "      <td>4.0</td>\n",
       "      <td>NaN</td>\n",
       "    </tr>\n",
       "    <tr>\n",
       "      <th>민지</th>\n",
       "      <td>NaN</td>\n",
       "      <td>5.0</td>\n",
       "      <td>4.0</td>\n",
       "      <td>1.0</td>\n",
       "      <td>NaN</td>\n",
       "      <td>3.0</td>\n",
       "    </tr>\n",
       "    <tr>\n",
       "      <th>지민</th>\n",
       "      <td>4.0</td>\n",
       "      <td>1.0</td>\n",
       "      <td>NaN</td>\n",
       "      <td>5.0</td>\n",
       "      <td>2.0</td>\n",
       "      <td>3.0</td>\n",
       "    </tr>\n",
       "    <tr>\n",
       "      <th>지연</th>\n",
       "      <td>5.0</td>\n",
       "      <td>NaN</td>\n",
       "      <td>3.0</td>\n",
       "      <td>4.0</td>\n",
       "      <td>3.0</td>\n",
       "      <td>3.0</td>\n",
       "    </tr>\n",
       "    <tr>\n",
       "      <th>현우</th>\n",
       "      <td>3.0</td>\n",
       "      <td>NaN</td>\n",
       "      <td>2.0</td>\n",
       "      <td>NaN</td>\n",
       "      <td>1.0</td>\n",
       "      <td>2.0</td>\n",
       "    </tr>\n",
       "  </tbody>\n",
       "</table>\n",
       "</div>"
      ],
      "text/plain": [
       "책   노인과바다  백설공주  신데렐라  어린왕자  콩쥐팥쥐  흥부전\n",
       "사람                                    \n",
       "민수    3.0   4.0   4.0   3.0   4.0  NaN\n",
       "민지    NaN   5.0   4.0   1.0   NaN  3.0\n",
       "지민    4.0   1.0   NaN   5.0   2.0  3.0\n",
       "지연    5.0   NaN   3.0   4.0   3.0  3.0\n",
       "현우    3.0   NaN   2.0   NaN   1.0  2.0"
      ]
     },
     "execution_count": 5,
     "metadata": {},
     "output_type": "execute_result"
    }
   ],
   "source": [
    "# 판다스의 pivot_table을 이용하여 협업필터링에 사용할 데이터를 만듭니다.\n",
    "ratings = data.pivot_table(index='사람', columns='책', values='평점')\n",
    "\n",
    "# ratings를 확인합니다.\n",
    "ratings"
   ]
  },
  {
   "cell_type": "markdown",
   "metadata": {},
   "source": [
    "## Notation\n",
    "\n",
    "$r_{ui}$를 사용자 $u$가 상품 $i$에 내린 ratings, $I_{uv}$ 를 사용자 $u$와 사용자 $v$가 모두 평가한 상품 집합, $U_{ij}$를 상품 $i$와 상품 $j$를 모두 평가한 사용자 집합이라고 표기하겠습니다.\n",
    "\n",
    "또한, 설명의 모든 예시는 사용자 \"민지\"의 상품 \"노인과바다\"에 대한 평점을 추청고자하며 자신을 제외한 모든 이웃들을 고려하겠습니다. 즉, k는 `총 사용자의 수 - 1`  가 됩니다."
   ]
  },
  {
   "cell_type": "markdown",
   "metadata": {},
   "source": [
    "## Calculate Similarity \n",
    "\n",
    "#### 사용자 기반(User-based)  기법\n",
    "\n",
    "1. user \"민지\"와 나머지 모든 user의 유사도를 연산합니다. \"민지\"-\"현우\", \"민지\"-\"민수\", \"민지\"-\"지민\", \"민지\"-\"지연\"의 유사도를 연산합니다.\n",
    "\n",
    "<table>\n",
    "  <thead>\n",
    "    <tr style=\"text-align: right;\">\n",
    "      <th>user</th>\n",
    "      <th>유사도</th>\n",
    "    </tr>\n",
    "  </thead>\n",
    "  <tbody>\n",
    "    <tr>\n",
    "      <td>현우</td>\n",
    "      <td>0.7261</td>\n",
    "    </tr>\n",
    "    <tr>\n",
    "      <th>민수</th>\n",
    "      <td>0.9547</td>\n",
    "    </tr>\n",
    "    <tr>\n",
    "      <td>지민</td>\n",
    "      <td>0.5985</td>\n",
    "    </tr>\n",
    "    <tr>\n",
    "      <th>지연</th>\n",
    "      <td>0.8541</td>\n",
    "    </tr>\n",
    "  </tbody>\n",
    "</table>\n",
    "\n",
    "#### 상품 기반 (Item-based) 기법\n",
    "\n",
    "1. item \"노인과바다\"와 나머지 모든 item의 유사도를 연사합니다. \"노인과바다\"-\"백설공주\", \"노인과바다\"-\"신데렐라\", \"노인과바다\"-\"어린왕자\", \"노인과바다\"-\"콩쥐팥쥐\", \"노인과바다\"-\"흥부전\"의 유사도를 연산합니다.\n",
    "\n",
    "<table>\n",
    "  <thead>\n",
    "    <tr style=\"text-align: right;\">\n",
    "      <th>item</th>\n",
    "      <th>유사도</th>\n",
    "    </tr>\n",
    "  </thead>\n",
    "  <tbody>\n",
    "    <tr>\n",
    "      <td>백설공주</td>\n",
    "      <td>0.7761</td>\n",
    "    </tr>\n",
    "    <tr>\n",
    "      <td>신데렐라</td>\n",
    "      <td>0.8794</td>\n",
    "    </tr>\n",
    "    <tr>\n",
    "      <th>어린왕자</th>\n",
    "      <td>0.9830</td>\n",
    "    </tr>\n",
    "    <tr>\n",
    "      <td>콩쥐팥쥐</td>\n",
    "      <td>0.9032</td>\n",
    "    </tr>\n",
    "    <tr>\n",
    "      <th>흥부전</th>\n",
    "      <td>0.9949</td>\n",
    "    </tr>\n",
    "  </tbody>\n",
    "</table>\n",
    "\n",
    "\n",
    "그렇다면 임의의 두 user 혹은 임의의 두 item, 즉 두 값이 얼마나 유사한지를 어떻게 판단할 수 있을까요? 우리가 알고 있는 가장 대표적인 방법으로 두 데이터가 얼마나 가까운지를 유클리디안 거리(Euclidean Distance)를 활용하여 측정해볼 수도 있습니다. \n",
    "\n",
    "이 외에도 다양한 유사도 메트릭을 사용하여 유사한 정도를 파악하는 것이 가능합니다. 주로 유사도 측정을 위하여 피어슨 상관계수(Pearson Correlation Coefficient), 스피어만 순위 상관계수(Sprearman Rank Correlation Coefficient), 켄달의 타우(Kendall's Tau), 코사인 유사도(Cosine Similarity), 자카드 유사도(Jaccard Coefficient) 등을 활용합니다.\n",
    "\n",
    "이번 과제에서는 자주 쓰이는 코사인 유사도(Cosine Similarity)에 대하여 더 자세하게 알아보고 이를 직접 구현해보겠습니다. "
   ]
  },
  {
   "cell_type": "markdown",
   "metadata": {},
   "source": [
    "### Pearson Correlation Coefficient\n",
    "\n",
    "피어슨 상관계수는 Collaborative Filtering에서 유사도 측정 메트릭으로 주로 사용되며, 두 벡터의 선형 상관관계를 확인하기 위해 사용됩니다. 식으로 표현하자면 아래와 같습니다.\n",
    "\n",
    "$$\n",
    "similarity(\\textbf x,\\textbf y)=r_{\\textbf x\\textbf y} = \\frac{\\sum (x_i-\\bar{x})(y_i-\\bar{y})}{\\sqrt{\\sum (x_i - \\bar x)^2}\\sqrt{\\sum (y_i - \\bar y)^2}}\n",
    "$$\n",
    "\n",
    "피어슨 상관계수는 +1과 -1 사이의 값을 갖습니다. +1에 가까울수록 강한 양의 선형 상관관계가 있다는 것을 의미하고 -1에 가까울수록 강한 음의 선형 상관관계가 있다는 것을 의미합니다. 또한 0은 아무런 선형 상관관계가 없음을 뜻합니다. \n",
    "\n",
    "상품 $i$와 상품 $j$의 피어슨 상관계수는 아래와 같이 정의할 수 있습니다.\n",
    "\n",
    "$$\n",
    "similarity(i,j)=\\frac{\\sum_{u \\in U_{ij}} (r_{ui}-\\bar{r_i}) \\cdot (r_{uj}-\\bar{r_j})}{\\sqrt {\\sum_{u \\in U_{ij}} (r_{ui}-\\bar{r_i})^2} \\sqrt {\\sum_{u \\in U_{ij}} (r_{uj}-\\bar{r_j})^2}}\n",
    "$$\n",
    "\n",
    "또한 사용자 $u$와 사용자 $v$의 피어슨 상관계수는 아래와 같이 정의할 수 있습니다.\n",
    "\n",
    "$$\n",
    "similarity(u,v)=\\frac{\\sum_{i \\in I_{uv}} (r_{ui}- \\bar {r_u}) \\cdot (r_{vi}-\\bar {r_v})}{\\sqrt {\\sum_{i \\in I_{uv}} (r_{ui}- \\bar {r_u})^2} \\sqrt {\\sum_{i \\in I_{uv}} (r_{vi}-\\bar {r_v})^2}}\n",
    "$$"
   ]
  },
  {
   "cell_type": "markdown",
   "metadata": {},
   "source": [
    "피어슨 상관계수를 구할 때 주의해야 할 점이 있습니다. 바로 두 벡터간의 피어슨 상관계수를 계산하는 과정에서 분모가 0이 될 수 있다는 점입니다. 분모가 0이되는 경우 분자도 0이 나오는데 이러한 경우 결과가 0이 되어야하지만 0으로 나눌 수 없다는 에러가 발생합니다. 따라서 분모가 0이되지 않도록 만들며 분모가 0이 아니더라도 결과에 영향을 주지 않는 적당히 작은 값을 더해주어야 합니다. 이 더하는 작은 값을 보통 **epsilon**이라고 합니다. 파이썬에서 **epsilon**은 보통 0.0001 을 사용합니다."
   ]
  },
  {
   "cell_type": "code",
   "execution_count": null,
   "metadata": {},
   "outputs": [],
   "source": [
    "def get_cosine_similarity(u,v):\n",
    "    mask = np.isfinite(u) & np.isfinite(v)\n",
    "    u = u[mask]\n",
    "    v = v[mask]\n",
    "    uvdot = sum(u*v)\n",
    "    norm1 = sum(u **2)\n",
    "    norm2 = sum(v **2)\n",
    "    score = uvdot/np.sqrt(norm1* norm2)\n",
    "    return score"
   ]
  },
  {
   "cell_type": "code",
   "execution_count": 40,
   "metadata": {},
   "outputs": [
    {
     "name": "stdout",
     "output_type": "stream",
     "text": [
      "1.0\n",
      "2.0\n"
     ]
    }
   ],
   "source": [
    "a = complex(1,2)\n",
    "print(a.real)\n",
    "print(a.imag)"
   ]
  },
  {
   "attachments": {
    "image-2.png": {
     "image/png": "[encoded data removed]"
    },
    "image.png": {
     "image/png": "[encoded data removed]"
    }
   },
   "cell_type": "markdown",
   "metadata": {},
   "source": [
    "![image.png](attachment:image.png)\n",
    "![image-2.png](attachment:image-2.png)"
   ]
  },
  {
   "cell_type": "code",
   "execution_count": 136,
   "metadata": {},
   "outputs": [
    {
     "data": {
      "text/plain": [
       "-0.9999000099989999"
      ]
     },
     "execution_count": 136,
     "metadata": {},
     "output_type": "execute_result"
    }
   ],
   "source": [
    "# 두 벡터간 피어슨 상관계수를 구해주는 get_pearson_correlation 함수를 구현해주세요.\n",
    "# 두 벡터 u, v 중에 한 개라도 값이 비어 있다면 그에 대응하는 값들은 유사도를 구할 때 제외해주세요.\n",
    "# 분모가 0이 되는 경우를 제외하기 위해 최종적으로 분모에 epsilon을 더해주세요.\n",
    "\n",
    "def get_pearson_correlation(u, v, epsilon):\n",
    "    mask = np.isfinite(u) & np.isfinite(v)\n",
    "    u, v = u[mask] , v[mask]\n",
    "    bar_u, bar_v = u.mean(), v.mean()\n",
    "    \n",
    "    uv = sum((u-bar_u)*(v-bar_v))\n",
    "    norm1 = sum(((u - bar_u)**2))\n",
    "    norm2 = sum((v - bar_v)**2)\n",
    "    denom = np.sqrt(norm1)*np.sqrt(norm2)+epsilon\n",
    "    score = uv/denom\n",
    "    return score\n",
    "\n",
    "    # Write your code here!\n",
    "u = np.array([np.nan, 4, 3])\n",
    "v = np.array([3, 2, 4])\n",
    "\n",
    "get_pearson_correlation(u, v, epsilon = 0.0001)"
   ]
  },
  {
   "cell_type": "markdown",
   "metadata": {},
   "source": [
    "**get_pearson_correlation**"
   ]
  },
  {
   "cell_type": "markdown",
   "metadata": {},
   "source": [
    "구현한 `get_pearson_correlation()`를 테스트합니다.\n",
    "\n",
    "결과는 `-0.9999000099990001`가 나와야 합니다."
   ]
  },
  {
   "cell_type": "code",
   "execution_count": 137,
   "metadata": {},
   "outputs": [
    {
     "data": {
      "text/plain": [
       "-0.9999000099989999"
      ]
     },
     "execution_count": 137,
     "metadata": {},
     "output_type": "execute_result"
    }
   ],
   "source": [
    "# 테스트\n",
    "u = np.array([np.nan, 4, 3])\n",
    "v = np.array([3, 2, 4])\n",
    "\n",
    "get_pearson_correlation(u, v, epsilon = 0.0001)"
   ]
  },
  {
   "cell_type": "markdown",
   "metadata": {},
   "source": [
    " "
   ]
  },
  {
   "cell_type": "markdown",
   "metadata": {},
   "source": [
    "**get_pearson_correlation_table**"
   ]
  },
  {
   "cell_type": "code",
   "execution_count": 138,
   "metadata": {},
   "outputs": [
    {
     "data": {
      "text/plain": [
       "[('노인과바다',), ('백설공주',), ('신데렐라',), ('어린왕자',), ('콩쥐팥쥐',), ('흥부전',)]"
      ]
     },
     "execution_count": 138,
     "metadata": {},
     "output_type": "execute_result"
    }
   ],
   "source": [
    "list(product(ratings))"
   ]
  },
  {
   "cell_type": "code",
   "execution_count": 139,
   "metadata": {},
   "outputs": [
    {
     "data": {
      "text/plain": [
       "[('민수',), ('민지',), ('지민',), ('지연',), ('현우',)]"
      ]
     },
     "execution_count": 139,
     "metadata": {},
     "output_type": "execute_result"
    }
   ],
   "source": [
    "combinations = list(product(ratings.index))\n",
    "combinations"
   ]
  },
  {
   "cell_type": "code",
   "execution_count": 140,
   "metadata": {},
   "outputs": [
    {
     "data": {
      "text/plain": [
       "[('민수', '민수'),\n",
       " ('민수', '민지'),\n",
       " ('민수', '지민'),\n",
       " ('민수', '지연'),\n",
       " ('민수', '현우'),\n",
       " ('민지', '민수'),\n",
       " ('민지', '민지'),\n",
       " ('민지', '지민'),\n",
       " ('민지', '지연'),\n",
       " ('민지', '현우'),\n",
       " ('지민', '민수'),\n",
       " ('지민', '민지'),\n",
       " ('지민', '지민'),\n",
       " ('지민', '지연'),\n",
       " ('지민', '현우'),\n",
       " ('지연', '민수'),\n",
       " ('지연', '민지'),\n",
       " ('지연', '지민'),\n",
       " ('지연', '지연'),\n",
       " ('지연', '현우'),\n",
       " ('현우', '민수'),\n",
       " ('현우', '민지'),\n",
       " ('현우', '지민'),\n",
       " ('현우', '지연'),\n",
       " ('현우', '현우')]"
      ]
     },
     "execution_count": 140,
     "metadata": {},
     "output_type": "execute_result"
    }
   ],
   "source": [
    "index_combinations = list(product(ratings.index, repeat=2))\n",
    "index_combinations"
   ]
  },
  {
   "cell_type": "code",
   "execution_count": 141,
   "metadata": {},
   "outputs": [],
   "source": [
    "similarity_list = []\n",
    "\n",
    "for uname, vname in index_combinations:\n",
    "    u, v = ratings.loc[uname],ratings.loc[vname]\n",
    "    score = get_pearson_correlation(u, v, epsilon = 0.0001)\n",
    "    similarity = { # json형식으로 row를 만들어 append할 준비를 한다.\n",
    "        'u' : uname,\n",
    "        'v' : vname,\n",
    "        'score' : score\n",
    "    }\n",
    "    similarity_list.append(similarity)# 리스트에 추가한다."
   ]
  },
  {
   "cell_type": "code",
   "execution_count": 142,
   "metadata": {},
   "outputs": [
    {
     "data": {
      "text/plain": [
       "[{'u': '민수', 'v': '민수', 'score': 0.9999166736105326},\n",
       " {'u': '민수', 'v': '민지', 'score': 0.9706849604587979},\n",
       " {'u': '민수', 'v': '지민', 'score': -0.948653298999167},\n",
       " {'u': '민수', 'v': '지연', 'score': -0.9044794915677618},\n",
       " {'u': '민수', 'v': '현우', 'score': -0.8659504102790666},\n",
       " {'u': '민지', 'v': '민수', 'score': 0.9706849604587979},\n",
       " {'u': '민지', 'v': '민지', 'score': 0.9999885715591822},\n",
       " {'u': '민지', 'v': '지민', 'score': -0.9999875001562478},\n",
       " {'u': '민지', 'v': '지연', 'score': -0.9448576141315388},\n",
       " {'u': '민지', 'v': '현우', 'score': 0.0},\n",
       " {'u': '지민', 'v': '민수', 'score': -0.948653298999167},\n",
       " {'u': '지민', 'v': '민지', 'score': -0.9999875001562478},\n",
       " {'u': '지민', 'v': '지민', 'score': 0.9999900000999988},\n",
       " {'u': '지민', 'v': '지연', 'score': 0.6741816811353741},\n",
       " {'u': '지민', 'v': '현우', 'score': 0.9999500024998746},\n",
       " {'u': '지연', 'v': '민수', 'score': -0.9044794915677618},\n",
       " {'u': '지연', 'v': '민지', 'score': -0.9448576141315388},\n",
       " {'u': '지연', 'v': '지민', 'score': 0.6741816811353741},\n",
       " {'u': '지연', 'v': '지연', 'score': 0.999968750976532},\n",
       " {'u': '지연', 'v': '현우', 'score': 0.8164632489551646},\n",
       " {'u': '현우', 'v': '민수', 'score': -0.8659504102790666},\n",
       " {'u': '현우', 'v': '민지', 'score': 0.0},\n",
       " {'u': '현우', 'v': '지민', 'score': 0.9999500024998746},\n",
       " {'u': '현우', 'v': '지연', 'score': 0.8164632489551646},\n",
       " {'u': '현우', 'v': '현우', 'score': 0.9999500024998746}]"
      ]
     },
     "execution_count": 142,
     "metadata": {},
     "output_type": "execute_result"
    }
   ],
   "source": [
    "similarity_list"
   ]
  },
  {
   "cell_type": "code",
   "execution_count": 143,
   "metadata": {},
   "outputs": [
    {
     "data": {
      "text/html": [
       "<div>\n",
       "<style scoped>\n",
       "    .dataframe tbody tr th:only-of-type {\n",
       "        vertical-align: middle;\n",
       "    }\n",
       "\n",
       "    .dataframe tbody tr th {\n",
       "        vertical-align: top;\n",
       "    }\n",
       "\n",
       "    .dataframe thead th {\n",
       "        text-align: right;\n",
       "    }\n",
       "</style>\n",
       "<table border=\"1\" class=\"dataframe\">\n",
       "  <thead>\n",
       "    <tr style=\"text-align: right;\">\n",
       "      <th></th>\n",
       "      <th>u</th>\n",
       "      <th>v</th>\n",
       "      <th>score</th>\n",
       "    </tr>\n",
       "  </thead>\n",
       "  <tbody>\n",
       "    <tr>\n",
       "      <th>0</th>\n",
       "      <td>민수</td>\n",
       "      <td>민수</td>\n",
       "      <td>0.999917</td>\n",
       "    </tr>\n",
       "    <tr>\n",
       "      <th>1</th>\n",
       "      <td>민수</td>\n",
       "      <td>민지</td>\n",
       "      <td>0.970685</td>\n",
       "    </tr>\n",
       "    <tr>\n",
       "      <th>2</th>\n",
       "      <td>민수</td>\n",
       "      <td>지민</td>\n",
       "      <td>-0.948653</td>\n",
       "    </tr>\n",
       "    <tr>\n",
       "      <th>3</th>\n",
       "      <td>민수</td>\n",
       "      <td>지연</td>\n",
       "      <td>-0.904479</td>\n",
       "    </tr>\n",
       "    <tr>\n",
       "      <th>4</th>\n",
       "      <td>민수</td>\n",
       "      <td>현우</td>\n",
       "      <td>-0.865950</td>\n",
       "    </tr>\n",
       "    <tr>\n",
       "      <th>5</th>\n",
       "      <td>민지</td>\n",
       "      <td>민수</td>\n",
       "      <td>0.970685</td>\n",
       "    </tr>\n",
       "    <tr>\n",
       "      <th>6</th>\n",
       "      <td>민지</td>\n",
       "      <td>민지</td>\n",
       "      <td>0.999989</td>\n",
       "    </tr>\n",
       "    <tr>\n",
       "      <th>7</th>\n",
       "      <td>민지</td>\n",
       "      <td>지민</td>\n",
       "      <td>-0.999988</td>\n",
       "    </tr>\n",
       "    <tr>\n",
       "      <th>8</th>\n",
       "      <td>민지</td>\n",
       "      <td>지연</td>\n",
       "      <td>-0.944858</td>\n",
       "    </tr>\n",
       "    <tr>\n",
       "      <th>9</th>\n",
       "      <td>민지</td>\n",
       "      <td>현우</td>\n",
       "      <td>0.000000</td>\n",
       "    </tr>\n",
       "    <tr>\n",
       "      <th>10</th>\n",
       "      <td>지민</td>\n",
       "      <td>민수</td>\n",
       "      <td>-0.948653</td>\n",
       "    </tr>\n",
       "    <tr>\n",
       "      <th>11</th>\n",
       "      <td>지민</td>\n",
       "      <td>민지</td>\n",
       "      <td>-0.999988</td>\n",
       "    </tr>\n",
       "    <tr>\n",
       "      <th>12</th>\n",
       "      <td>지민</td>\n",
       "      <td>지민</td>\n",
       "      <td>0.999990</td>\n",
       "    </tr>\n",
       "    <tr>\n",
       "      <th>13</th>\n",
       "      <td>지민</td>\n",
       "      <td>지연</td>\n",
       "      <td>0.674182</td>\n",
       "    </tr>\n",
       "    <tr>\n",
       "      <th>14</th>\n",
       "      <td>지민</td>\n",
       "      <td>현우</td>\n",
       "      <td>0.999950</td>\n",
       "    </tr>\n",
       "    <tr>\n",
       "      <th>15</th>\n",
       "      <td>지연</td>\n",
       "      <td>민수</td>\n",
       "      <td>-0.904479</td>\n",
       "    </tr>\n",
       "    <tr>\n",
       "      <th>16</th>\n",
       "      <td>지연</td>\n",
       "      <td>민지</td>\n",
       "      <td>-0.944858</td>\n",
       "    </tr>\n",
       "    <tr>\n",
       "      <th>17</th>\n",
       "      <td>지연</td>\n",
       "      <td>지민</td>\n",
       "      <td>0.674182</td>\n",
       "    </tr>\n",
       "    <tr>\n",
       "      <th>18</th>\n",
       "      <td>지연</td>\n",
       "      <td>지연</td>\n",
       "      <td>0.999969</td>\n",
       "    </tr>\n",
       "    <tr>\n",
       "      <th>19</th>\n",
       "      <td>지연</td>\n",
       "      <td>현우</td>\n",
       "      <td>0.816463</td>\n",
       "    </tr>\n",
       "    <tr>\n",
       "      <th>20</th>\n",
       "      <td>현우</td>\n",
       "      <td>민수</td>\n",
       "      <td>-0.865950</td>\n",
       "    </tr>\n",
       "    <tr>\n",
       "      <th>21</th>\n",
       "      <td>현우</td>\n",
       "      <td>민지</td>\n",
       "      <td>0.000000</td>\n",
       "    </tr>\n",
       "    <tr>\n",
       "      <th>22</th>\n",
       "      <td>현우</td>\n",
       "      <td>지민</td>\n",
       "      <td>0.999950</td>\n",
       "    </tr>\n",
       "    <tr>\n",
       "      <th>23</th>\n",
       "      <td>현우</td>\n",
       "      <td>지연</td>\n",
       "      <td>0.816463</td>\n",
       "    </tr>\n",
       "    <tr>\n",
       "      <th>24</th>\n",
       "      <td>현우</td>\n",
       "      <td>현우</td>\n",
       "      <td>0.999950</td>\n",
       "    </tr>\n",
       "  </tbody>\n",
       "</table>\n",
       "</div>"
      ],
      "text/plain": [
       "     u   v     score\n",
       "0   민수  민수  0.999917\n",
       "1   민수  민지  0.970685\n",
       "2   민수  지민 -0.948653\n",
       "3   민수  지연 -0.904479\n",
       "4   민수  현우 -0.865950\n",
       "5   민지  민수  0.970685\n",
       "6   민지  민지  0.999989\n",
       "7   민지  지민 -0.999988\n",
       "8   민지  지연 -0.944858\n",
       "9   민지  현우  0.000000\n",
       "10  지민  민수 -0.948653\n",
       "11  지민  민지 -0.999988\n",
       "12  지민  지민  0.999990\n",
       "13  지민  지연  0.674182\n",
       "14  지민  현우  0.999950\n",
       "15  지연  민수 -0.904479\n",
       "16  지연  민지 -0.944858\n",
       "17  지연  지민  0.674182\n",
       "18  지연  지연  0.999969\n",
       "19  지연  현우  0.816463\n",
       "20  현우  민수 -0.865950\n",
       "21  현우  민지  0.000000\n",
       "22  현우  지민  0.999950\n",
       "23  현우  지연  0.816463\n",
       "24  현우  현우  0.999950"
      ]
     },
     "execution_count": 143,
     "metadata": {},
     "output_type": "execute_result"
    }
   ],
   "source": [
    "similarity_list = pd.DataFrame(similarity_list)\n",
    "similarity_list"
   ]
  },
  {
   "cell_type": "code",
   "execution_count": 144,
   "metadata": {},
   "outputs": [
    {
     "data": {
      "text/html": [
       "<div>\n",
       "<style scoped>\n",
       "    .dataframe tbody tr th:only-of-type {\n",
       "        vertical-align: middle;\n",
       "    }\n",
       "\n",
       "    .dataframe tbody tr th {\n",
       "        vertical-align: top;\n",
       "    }\n",
       "\n",
       "    .dataframe thead th {\n",
       "        text-align: right;\n",
       "    }\n",
       "</style>\n",
       "<table border=\"1\" class=\"dataframe\">\n",
       "  <thead>\n",
       "    <tr style=\"text-align: right;\">\n",
       "      <th>v</th>\n",
       "      <th>민수</th>\n",
       "      <th>민지</th>\n",
       "      <th>지민</th>\n",
       "      <th>지연</th>\n",
       "      <th>현우</th>\n",
       "    </tr>\n",
       "    <tr>\n",
       "      <th>u</th>\n",
       "      <th></th>\n",
       "      <th></th>\n",
       "      <th></th>\n",
       "      <th></th>\n",
       "      <th></th>\n",
       "    </tr>\n",
       "  </thead>\n",
       "  <tbody>\n",
       "    <tr>\n",
       "      <th>민수</th>\n",
       "      <td>0.999917</td>\n",
       "      <td>0.970685</td>\n",
       "      <td>-0.948653</td>\n",
       "      <td>-0.904479</td>\n",
       "      <td>-0.865950</td>\n",
       "    </tr>\n",
       "    <tr>\n",
       "      <th>민지</th>\n",
       "      <td>0.970685</td>\n",
       "      <td>0.999989</td>\n",
       "      <td>-0.999988</td>\n",
       "      <td>-0.944858</td>\n",
       "      <td>0.000000</td>\n",
       "    </tr>\n",
       "    <tr>\n",
       "      <th>지민</th>\n",
       "      <td>-0.948653</td>\n",
       "      <td>-0.999988</td>\n",
       "      <td>0.999990</td>\n",
       "      <td>0.674182</td>\n",
       "      <td>0.999950</td>\n",
       "    </tr>\n",
       "    <tr>\n",
       "      <th>지연</th>\n",
       "      <td>-0.904479</td>\n",
       "      <td>-0.944858</td>\n",
       "      <td>0.674182</td>\n",
       "      <td>0.999969</td>\n",
       "      <td>0.816463</td>\n",
       "    </tr>\n",
       "    <tr>\n",
       "      <th>현우</th>\n",
       "      <td>-0.865950</td>\n",
       "      <td>0.000000</td>\n",
       "      <td>0.999950</td>\n",
       "      <td>0.816463</td>\n",
       "      <td>0.999950</td>\n",
       "    </tr>\n",
       "  </tbody>\n",
       "</table>\n",
       "</div>"
      ],
      "text/plain": [
       "v         민수        민지        지민        지연        현우\n",
       "u                                                   \n",
       "민수  0.999917  0.970685 -0.948653 -0.904479 -0.865950\n",
       "민지  0.970685  0.999989 -0.999988 -0.944858  0.000000\n",
       "지민 -0.948653 -0.999988  0.999990  0.674182  0.999950\n",
       "지연 -0.904479 -0.944858  0.674182  0.999969  0.816463\n",
       "현우 -0.865950  0.000000  0.999950  0.816463  0.999950"
      ]
     },
     "execution_count": 144,
     "metadata": {},
     "output_type": "execute_result"
    }
   ],
   "source": [
    "similarity_table = pd.pivot_table(values='score', index='u', columns='v', data=similarity_list)\n",
    "similarity_table"
   ]
  },
  {
   "cell_type": "code",
   "execution_count": 146,
   "metadata": {},
   "outputs": [],
   "source": [
    "# 모든 조합의 수를 구해주는 itertools의 product를 불러옵니다. \n",
    "from itertools import product"
   ]
  },
  {
   "cell_type": "code",
   "execution_count": 147,
   "metadata": {},
   "outputs": [],
   "source": [
    "# 모든 사용자간의 피어슨 상관계수를 구해주는 get_pearson_correlation_table를 구현해주세요.\n",
    "# 분모가 0이 되는 경우를 제외하기 위해 최종적으로 분모에 epsilon을 더해주세요. epsilon은 0.0001으로 설정하겠습니다. \n",
    "def get_pearson_correlation_table(ratings):\n",
    "    \n",
    "    index_combinations = list(product(ratings.index, repeat=2))\n",
    "    similarity_list = []\n",
    "    \n",
    "    for uname, vname in index_combinations:\n",
    "        \n",
    "        u, v = ratings.loc[uname],ratings.loc[vname]\n",
    "        score = get_pearson_correlation(u, v, epsilon = 0.0001)\n",
    "        similarity = { # json형식으로 row를 만들어 append할 준비를 한다.\n",
    "            'u' : uname,\n",
    "            'v' : vname,\n",
    "            'score' : score\n",
    "        }\n",
    "        similarity_list.append(similarity)# 리스트에 추가한다.\n",
    "    return pd.pivot_table(values='score', index='u', columns='v', data=pd.DataFrame(similarity_list))"
   ]
  },
  {
   "cell_type": "markdown",
   "metadata": {},
   "source": [
    "구현한 `get_pearson_correlation()`를 테스트합니다. 결과는 다음과 같습니다."
   ]
  },
  {
   "cell_type": "markdown",
   "metadata": {},
   "source": [
    "<table border=\"1\" class=\"dataframe\">\n",
    "  <thead>\n",
    "    <tr style=\"text-align: right;\">\n",
    "      <th>v</th>\n",
    "      <th>민수</th>\n",
    "      <th>민지</th>\n",
    "      <th>지민</th>\n",
    "      <th>지연</th>\n",
    "      <th>현우</th>\n",
    "    </tr>\n",
    "    <tr>\n",
    "      <th>u</th>\n",
    "      <th></th>\n",
    "      <th></th>\n",
    "      <th></th>\n",
    "      <th></th>\n",
    "      <th></th>\n",
    "    </tr>\n",
    "  </thead>\n",
    "  <tbody>\n",
    "    <tr>\n",
    "      <th>민수</th>\n",
    "      <td>0.999917</td>\n",
    "      <td>0.970685</td>\n",
    "      <td>-0.948653</td>\n",
    "      <td>-0.904479</td>\n",
    "      <td>-0.865950</td>\n",
    "    </tr>\n",
    "    <tr>\n",
    "      <th>민지</th>\n",
    "      <td>0.970685</td>\n",
    "      <td>0.999989</td>\n",
    "      <td>-0.999988</td>\n",
    "      <td>-0.944858</td>\n",
    "      <td>0.000000</td>\n",
    "    </tr>\n",
    "    <tr>\n",
    "      <th>지민</th>\n",
    "      <td>-0.948653</td>\n",
    "      <td>-0.999988</td>\n",
    "      <td>0.999990</td>\n",
    "      <td>0.674182</td>\n",
    "      <td>0.999950</td>\n",
    "    </tr>\n",
    "    <tr>\n",
    "      <th>지연</th>\n",
    "      <td>-0.904479</td>\n",
    "      <td>-0.944858</td>\n",
    "      <td>0.674182</td>\n",
    "      <td>0.999969</td>\n",
    "      <td>0.816463</td>\n",
    "    </tr>\n",
    "    <tr>\n",
    "      <th>현우</th>\n",
    "      <td>-0.865950</td>\n",
    "      <td>0.000000</td>\n",
    "      <td>0.999950</td>\n",
    "      <td>0.816463</td>\n",
    "      <td>0.999950</td>\n",
    "    </tr>\n",
    "  </tbody>\n",
    "</table>"
   ]
  },
  {
   "cell_type": "code",
   "execution_count": 149,
   "metadata": {},
   "outputs": [
    {
     "data": {
      "text/html": [
       "<div>\n",
       "<style scoped>\n",
       "    .dataframe tbody tr th:only-of-type {\n",
       "        vertical-align: middle;\n",
       "    }\n",
       "\n",
       "    .dataframe tbody tr th {\n",
       "        vertical-align: top;\n",
       "    }\n",
       "\n",
       "    .dataframe thead th {\n",
       "        text-align: right;\n",
       "    }\n",
       "</style>\n",
       "<table border=\"1\" class=\"dataframe\">\n",
       "  <thead>\n",
       "    <tr style=\"text-align: right;\">\n",
       "      <th>v</th>\n",
       "      <th>민수</th>\n",
       "      <th>민지</th>\n",
       "      <th>지민</th>\n",
       "      <th>지연</th>\n",
       "      <th>현우</th>\n",
       "    </tr>\n",
       "    <tr>\n",
       "      <th>u</th>\n",
       "      <th></th>\n",
       "      <th></th>\n",
       "      <th></th>\n",
       "      <th></th>\n",
       "      <th></th>\n",
       "    </tr>\n",
       "  </thead>\n",
       "  <tbody>\n",
       "    <tr>\n",
       "      <th>민수</th>\n",
       "      <td>0.999917</td>\n",
       "      <td>0.970685</td>\n",
       "      <td>-0.948653</td>\n",
       "      <td>-0.904479</td>\n",
       "      <td>-0.865950</td>\n",
       "    </tr>\n",
       "    <tr>\n",
       "      <th>민지</th>\n",
       "      <td>0.970685</td>\n",
       "      <td>0.999989</td>\n",
       "      <td>-0.999988</td>\n",
       "      <td>-0.944858</td>\n",
       "      <td>0.000000</td>\n",
       "    </tr>\n",
       "    <tr>\n",
       "      <th>지민</th>\n",
       "      <td>-0.948653</td>\n",
       "      <td>-0.999988</td>\n",
       "      <td>0.999990</td>\n",
       "      <td>0.674182</td>\n",
       "      <td>0.999950</td>\n",
       "    </tr>\n",
       "    <tr>\n",
       "      <th>지연</th>\n",
       "      <td>-0.904479</td>\n",
       "      <td>-0.944858</td>\n",
       "      <td>0.674182</td>\n",
       "      <td>0.999969</td>\n",
       "      <td>0.816463</td>\n",
       "    </tr>\n",
       "    <tr>\n",
       "      <th>현우</th>\n",
       "      <td>-0.865950</td>\n",
       "      <td>0.000000</td>\n",
       "      <td>0.999950</td>\n",
       "      <td>0.816463</td>\n",
       "      <td>0.999950</td>\n",
       "    </tr>\n",
       "  </tbody>\n",
       "</table>\n",
       "</div>"
      ],
      "text/plain": [
       "v         민수        민지        지민        지연        현우\n",
       "u                                                   \n",
       "민수  0.999917  0.970685 -0.948653 -0.904479 -0.865950\n",
       "민지  0.970685  0.999989 -0.999988 -0.944858  0.000000\n",
       "지민 -0.948653 -0.999988  0.999990  0.674182  0.999950\n",
       "지연 -0.904479 -0.944858  0.674182  0.999969  0.816463\n",
       "현우 -0.865950  0.000000  0.999950  0.816463  0.999950"
      ]
     },
     "execution_count": 149,
     "metadata": {},
     "output_type": "execute_result"
    }
   ],
   "source": [
    "# 테스트\n",
    "get_pearson_correlation_table(ratings)"
   ]
  },
  {
   "cell_type": "markdown",
   "metadata": {},
   "source": [
    "----"
   ]
  },
  {
   "cell_type": "markdown",
   "metadata": {},
   "source": [
    "## Predict Ratings\n"
   ]
  },
  {
   "cell_type": "markdown",
   "metadata": {},
   "source": [
    "### Get Nearest Neighbors"
   ]
  },
  {
   "cell_type": "markdown",
   "metadata": {},
   "source": [
    "우선 특정 사용자 𝑢의 상품 𝑖를 평가할 때 사용자 𝑢의 이웃을 구하겠습니다. 기본적으로 사용자 𝑢와 유사도가 가장 큰 k명이 이웃이 됩니다. 하지만 조건을 좀 더 추가해야합니다. 가령 아이템에 평가를 내리지 않거나 유사도가 절대적으로 작은 사용자는 이웃이 될 수 없습니다.\n",
    "\n",
    "다음의 조건에 해당하는 이웃을 구해주세요.\n",
    "\n",
    "- 이웃의 기준은 유사도가 된다.\n",
    "- 자기 자신은 이웃에서 제외한다.\n",
    "- 해당 아이템에 평가를 내린 사람들중에서 최근접 이웃을 고른다. 즉, 아이템에 평가를 내린적 없는 사람들은 고려하지 않는다.\n",
    "- 유사도가 0 이상인 사람들중에서 최근접 이웃을 고른다. \n",
    "- 유사도가 0 이상인 이웃이 없다면 그나마 가장 유사도가 가장 큰 한 명을 고른다.\n",
    "\n",
    "결과적으로 아이템을 산 사람들중에서만 이웃이 지정되기 때문에 **예측하려는 아이템마다 구해지는 이웃이 달라질 수 있습니다.**"
   ]
  },
  {
   "cell_type": "markdown",
   "metadata": {},
   "source": [
    "**get_nearest_neighbors**"
   ]
  },
  {
   "cell_type": "code",
   "execution_count": 150,
   "metadata": {},
   "outputs": [],
   "source": [
    "def get_nearest_neighbors(user_name, item_name, ratings, similarity, k):\n",
    "    \n",
    "    neighbors_name = ratings[item_name].drop(index=user_name)\n",
    "    neighbors_similarity = similarity[user_name].drop(index=user_name)\n",
    "    \n",
    "    # 해당 아이템의 평점이 NaN값을 가진 사람들 제외\n",
    "    nan_user_name = neighbors_name[neighbors_name.isna()].index\n",
    "    neighbors_name.drop(nan_user_name, inplace= True)\n",
    "    neighbors_similarity.drop(nan_user_name, inplace= True)\n",
    "\n",
    "    # 이웃들의 평점이 다 NaN이라면 빈 리스트 반환\n",
    "    if len(neighbors_name) == 0: \n",
    "        return list() \n",
    "    \n",
    "    best_neighbors = []\n",
    "    sorted_neighbors_similarity = neighbors_similarity.sort_values(ascending=False)\n",
    "    \n",
    "    for idx,i in enumerate(sorted_neighbors_similarity):\n",
    "        if i > 0:\n",
    "            best_neighbors.append(sorted_neighbors_similarity.index[idx])\n",
    "        else:\n",
    "            if not best_neighbors:\n",
    "                best_neighbors.append(sorted_neighbors_similarity.index[idx])\n",
    "                return best_neighbors    \n",
    "            return best_neighbors"
   ]
  },
  {
   "cell_type": "code",
   "execution_count": 151,
   "metadata": {},
   "outputs": [
    {
     "data": {
      "text/plain": [
       "['현우']"
      ]
     },
     "execution_count": 151,
     "metadata": {},
     "output_type": "execute_result"
    }
   ],
   "source": [
    "# 테스트 1\n",
    "pearson_correlation = get_pearson_correlation_table(ratings)\n",
    "\n",
    "get_nearest_neighbors('민수', '노인과바다', ratings, pearson_correlation, k=2)"
   ]
  },
  {
   "cell_type": "code",
   "execution_count": 152,
   "metadata": {},
   "outputs": [
    {
     "data": {
      "text/plain": [
       "['민수']"
      ]
     },
     "execution_count": 152,
     "metadata": {},
     "output_type": "execute_result"
    }
   ],
   "source": [
    "# 테스트 2\n",
    "pearson_correlation = get_pearson_correlation_table(ratings)\n",
    "\n",
    "get_nearest_neighbors('민지', '백설공주', ratings, pearson_correlation, k=2)"
   ]
  },
  {
   "cell_type": "code",
   "execution_count": null,
   "metadata": {},
   "outputs": [],
   "source": [
    "# 특정 사용자 user_name의 상품 item_name를 예측할 때 user_name의 k명의 이웃들을 구하는 get_nearest_neighbors을 구현해주세요.\n",
    "# 결과는 이웃들의 목록이 되어야합니다. 결과를 리스트(List)로 반환해주세요!\n",
    "# 평점이 존재하는 이웃이 없다면 빈 리스트를 반환해주세요.\n",
    "def get_nearest_neighbors(user_name, item_name, ratings, similarity, k):\n",
    "\n",
    "    # Write your code here!"
   ]
  },
  {
   "cell_type": "markdown",
   "metadata": {},
   "source": [
    "구현한 `get_nearest_neighbors()`를 테스트합니다. 결과는 다음과 같습니다.\n",
    "\n",
    "\n",
    "**테스트 1**\n",
    "\n",
    "`Index(['현우'], dtype='object', name='u')` 또는 `['현우']`\n",
    "\n",
    "**테스트 2**\n",
    "\n",
    "`Index(['민수'], dtype='object', name='u')` 또는 `['민수']`"
   ]
  },
  {
   "cell_type": "code",
   "execution_count": null,
   "metadata": {},
   "outputs": [],
   "source": [
    "# 테스트 1\n",
    "pearson_correlation = get_pearson_correlation_table(ratings)\n",
    "\n",
    "get_nearest_neighbors('민수', '노인과바다', ratings, pearson_correlation, k=2)"
   ]
  },
  {
   "cell_type": "code",
   "execution_count": null,
   "metadata": {},
   "outputs": [],
   "source": [
    "# 테스트 2\n",
    "pearson_correlation = get_pearson_correlation_table(ratings)\n",
    "\n",
    "get_nearest_neighbors('민지', '백설공주', ratings, pearson_correlation, k=2)"
   ]
  },
  {
   "cell_type": "markdown",
   "metadata": {},
   "source": [
    "----"
   ]
  },
  {
   "cell_type": "markdown",
   "metadata": {},
   "source": [
    "### Average Correction\n",
    "\n",
    "유사한 상품/사용자에 더 큰 가중치를 주어 특정 상품에 대한 사용자의 ratings 값을 예측합니다. 유사도에 따라 ratings에 유사도가 높은 k개의 상품에 내려진 ratings의 평균/유사도가 높은 k명의 사용자가 내린 ratings의 평균을 제외한 값의 가중 평균을 구합니다. 이 값에 상품에 내린 ratings 값/사용자가 내린 ratings 값의 평균을 최종적으로 더하여 예측합니다. 상품/사용자가 받거나 하는 ratings 특성을 더 잘 반영합니다.\n",
    "\n",
    "\n",
    "#### 사용자 기반(사용자-based) 기법\n",
    "1. 특정 유사도 메트릭에 따라 사용자 $u$와 유사한 k명(혹은 이하)의 사용자를 결정합니다.\n",
    "2. 유사한 k명의 사용자가 상품 $i$에 내린 ratings에 각각 k명의 사용자가 내린 ratings의 평균을 뺀 값에 대해 유사도에 따른 가중 평균을 구합니다.\n",
    "3. 사용자 $u$이 내린 ratings 값의 평균을 더하여 값을 보정해줍니다.\n",
    "\n",
    "$$\n",
    "\\hat r_{ui} = \\bar r_u + \\frac{\\sum_{v \\in {N_i}^k(u)}{similarity(u,v)} \\cdot (r_{vi}-\\bar r_v)}{\\sum_{v \\in {N_i}^k(u)}{similarity(u,v)}}\n",
    "$$\n",
    "\n",
    "\n",
    "#### 상품 기반(상품-based) 기법\n",
    "1. 특정 유사도 메트릭에 따라 상품 $i$와 유사한 k개(혹은 이하)의 상품을 결정합니다.\n",
    "2. 유사한 k개의 상품에 내린 사용자 $u$의 ratings에 각각 k개의 상품에 내려진 ratings의 평균을 뺀 값에 대해 유사도에 따른 가중 평균을 구합니다.\n",
    "3. 상품 $i$에 내려진 ratings 값의 평균을 더하여 값을 보정해줍니다.\n",
    "\n",
    "$$\n",
    "\\hat r_{ui} = \\bar r_i + \\frac{\\sum_{j \\in {N_u}^k(i)}{similarity(i,j)} \\cdot (r_{uj}-\\bar r_j)}{\\sum_{j \\in {N_u}^k(i)}{similarity(i,j)}}\n",
    "$$"
   ]
  },
  {
   "cell_type": "markdown",
   "metadata": {},
   "source": [
    "**average_correction_predict_rating**"
   ]
  },
  {
   "cell_type": "code",
   "execution_count": 153,
   "metadata": {},
   "outputs": [],
   "source": [
    "def average_correction_predict_rating(user_name, item_name, ratings, similarity, k, epsilon):\n",
    "    nearest_neighbors = get_nearest_neighbors(user_name, item_name, ratings, similarity, k)\n",
    "\n",
    "    # 가까운 이웃이 없다면(특정 아이템에 평점이 한 개도 없다면)\n",
    "    if len(nearest_neighbors) == 0:\n",
    "        return np.nan\n",
    "    else:\n",
    "        \n",
    "        neighbors_data = ratings[item_name][nearest_neighbors]\n",
    "        neighbors_similarity = similarity[user_name][nearest_neighbors]\n",
    "\n",
    "        nominator = ((neighbors_data - neighbors_data.mean()) * neighbors_similarity).sum()  # 분자\n",
    "        denominator = neighbors_similarity.sum() # 분모\n",
    "        score = neighbors_data.mean() + nominator / (denominator + epsilon)\n",
    "\n",
    "        return score"
   ]
  },
  {
   "cell_type": "code",
   "execution_count": 154,
   "metadata": {},
   "outputs": [
    {
     "data": {
      "text/plain": [
       "3.0"
      ]
     },
     "execution_count": 154,
     "metadata": {},
     "output_type": "execute_result"
    }
   ],
   "source": [
    "# 테스트\n",
    "pearson_correlation = get_pearson_correlation_table(ratings)\n",
    "\n",
    "average_correction_predict_rating('민지', '노인과바다', ratings, pearson_correlation, k=1, epsilon=0.0001)"
   ]
  },
  {
   "cell_type": "code",
   "execution_count": null,
   "metadata": {},
   "outputs": [],
   "source": [
    "# 특정 사용자 u의 상품 v의 평점을 예측한 겨결과를 반환하는 average_correction_predict_rating를 구현해주세요.\n",
    "def average_correction_predict_rating(user_name, item_name, ratings, similarity, k, epsilon):\n",
    "    nearest_neighbors = get_nearest_neighbors(user_name, item_name, ratings, similarity, k)\n",
    "    \n",
    "    # 가까운 이웃이 없다면(특정 아이템에 평점이 한 개도 없다면)\n",
    "    if len(nearest_neighbors) == 0:\n",
    "        return np.nan\n",
    "    \n",
    "    # Write your code here!"
   ]
  },
  {
   "cell_type": "markdown",
   "metadata": {},
   "source": [
    "구현한 `average_correction_predict_rating`를 테스트합니다.\n",
    "\n",
    "결과는 `3.6`이 됩니다."
   ]
  },
  {
   "cell_type": "code",
   "execution_count": null,
   "metadata": {},
   "outputs": [],
   "source": [
    "# 테스트\n",
    "pearson_correlation = get_pearson_correlation_table(ratings)\n",
    "\n",
    "average_correction_predict_rating('민지', '노인과바다', ratings, pearson_correlation, k=1, epsilon=0.0001)"
   ]
  },
  {
   "cell_type": "markdown",
   "metadata": {},
   "source": [
    " "
   ]
  },
  {
   "cell_type": "markdown",
   "metadata": {},
   "source": [
    "**average_correction_predict**"
   ]
  },
  {
   "cell_type": "code",
   "execution_count": null,
   "metadata": {},
   "outputs": [],
   "source": [
    "# 모든 비어있는 값을 예측하는 average_correction_predict 구현해주세요.\n",
    "# 단 비어있는 값만 예측 결과를 반환해주세요.\n",
    "# 사용자 기반, 상품 기반 기법 모두 가능하도록 구현합니다. 상품기반은 단순히 ratings를 transpose하고 진행하면 됩니다.\n",
    "# k에 사용자 기반인지 상품기반인지 여부를 지정합니다.\n",
    "# itertool의 predict와 위에서 구현한 average_correction_predict_rating를 활용하면 됩니다.\n",
    "# kind는 유저 기반, k는 2, epsilon은 0.0001을 기본값으로 설정합니다.\n",
    "def average_correction_predict(ratings, kind='user', k=2, epsilon=0.0001):\n",
    "    # 상품 기반 예측이면 행렬을 뒤집어주고(transpose) 마지막에 결과를 다시 뒤집어서 반환합니다.\n",
    "    if kind == 'item':\n",
    "        ratings = ratings.T\n",
    "    \n",
    "    \n",
    "    \n",
    "    # Write your code here!\n",
    "    \n",
    "    \n",
    "    \n",
    "    # 아이템 기반이면 다시 뒤집어준다.\n",
    "    if kind == 'item':\n",
    "        return prediction.T\n",
    "\n",
    "    return result"
   ]
  },
  {
   "cell_type": "markdown",
   "metadata": {},
   "source": [
    "구현한 `average_correction_predict()`를 테스트합니다. 결과는 다음과 같습니다.\n",
    "\n",
    "<table border=\"1\" class=\"dataframe\">\n",
    "  <thead>\n",
    "    <tr style=\"text-align: right;\">\n",
    "      <th>v</th>\n",
    "      <th>노인과바다</th>\n",
    "      <th>백설공주</th>\n",
    "      <th>신데렐라</th>\n",
    "      <th>어린왕자</th>\n",
    "      <th>콩쥐팥쥐</th>\n",
    "      <th>흥부전</th>\n",
    "    </tr>\n",
    "    <tr>\n",
    "      <th>u</th>\n",
    "      <th></th>\n",
    "      <th></th>\n",
    "      <th></th>\n",
    "      <th></th>\n",
    "      <th></th>\n",
    "      <th></th>\n",
    "    </tr>\n",
    "  </thead>\n",
    "  <tbody>\n",
    "    <tr>\n",
    "      <th>민수</th>\n",
    "      <td>NaN</td>\n",
    "      <td>NaN</td>\n",
    "      <td>NaN</td>\n",
    "      <td>NaN</td>\n",
    "      <td>NaN</td>\n",
    "      <td>3.6</td>\n",
    "    </tr>\n",
    "    <tr>\n",
    "      <th>민지</th>\n",
    "      <td>3.25</td>\n",
    "      <td>NaN</td>\n",
    "      <td>NaN</td>\n",
    "      <td>NaN</td>\n",
    "      <td>3.25</td>\n",
    "      <td>NaN</td>\n",
    "    </tr>\n",
    "    <tr>\n",
    "      <th>지민</th>\n",
    "      <td>NaN</td>\n",
    "      <td>NaN</td>\n",
    "      <td>2.902711</td>\n",
    "      <td>NaN</td>\n",
    "      <td>NaN</td>\n",
    "      <td>NaN</td>\n",
    "    </tr>\n",
    "    <tr>\n",
    "      <th>지연</th>\n",
    "      <td>NaN</td>\n",
    "      <td>3.6</td>\n",
    "      <td>NaN</td>\n",
    "      <td>NaN</td>\n",
    "      <td>NaN</td>\n",
    "      <td>NaN</td>\n",
    "    </tr>\n",
    "    <tr>\n",
    "      <th>현우</th>\n",
    "      <td>NaN</td>\n",
    "      <td>2.0</td>\n",
    "      <td>NaN</td>\n",
    "      <td>2.050505</td>\n",
    "      <td>NaN</td>\n",
    "      <td>NaN</td>\n",
    "    </tr>\n",
    "  </tbody>\n",
    "</table>"
   ]
  },
  {
   "cell_type": "code",
   "execution_count": null,
   "metadata": {},
   "outputs": [],
   "source": [
    "# 테스트\n",
    "average_correction_predict(ratings, kind='user', k=2, epsilon=0.0001)"
   ]
  },
  {
   "cell_type": "markdown",
   "metadata": {},
   "source": [
    "----"
   ]
  }
 ],
 "metadata": {
  "kernelspec": {
   "display_name": "Python 3",
   "language": "python",
   "name": "python3"
  },
  "language_info": {
   "codemirror_mode": {
    "name": "ipython",
    "version": 3
   },
   "file_extension": ".py",
   "mimetype": "text/x-python",
   "name": "python",
   "nbconvert_exporter": "python",
   "pygments_lexer": "ipython3",
   "version": "3.8.5"
  },
  "varInspector": {
   "cols": {
    "lenName": 16,
    "lenType": 16,
    "lenVar": 40
   },
   "kernels_config": {
    "python": {
     "delete_cmd_postfix": "",
     "delete_cmd_prefix": "del ",
     "library": "var_list.py",
     "varRefreshCmd": "print(var_dic_list())"
    },
    "r": {
     "delete_cmd_postfix": ") ",
     "delete_cmd_prefix": "rm(",
     "library": "var_list.r",
     "varRefreshCmd": "cat(var_dic_list()) "
    }
   },
   "types_to_exclude": [
    "module",
    "function",
    "builtin_function_or_method",
    "instance",
    "_Feature"
   ],
   "window_display": false
  }
 },
 "nbformat": 4,
 "nbformat_minor": 2
}
